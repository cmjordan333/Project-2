{
 "cells": [
  {
   "cell_type": "code",
   "execution_count": 6,
   "metadata": {},
   "outputs": [],
   "source": [
    "#Funky fresh imports!\n",
    "import pandas as pd\n",
    "from pandas import DataFrame\n",
    "import requests\n",
    "from bs4 import BeautifulSoup"
   ]
  },
  {
   "cell_type": "code",
   "execution_count": 7,
   "metadata": {},
   "outputs": [],
   "source": [
    "#Mic Check 1 2 1 2\n",
    "beastie_url = 'https://www.lyrics.com/artist/Beastie+Boys/10'\n",
    "req = requests.get(beastie_url)\n",
    "soup = BeautifulSoup(req.text, 'html.parser')"
   ]
  },
  {
   "cell_type": "code",
   "execution_count": 8,
   "metadata": {},
   "outputs": [],
   "source": [
    "#Where my albums at?!\n",
    "albums = soup.find_all('h3', {'class': 'artist-album-label'})"
   ]
  },
  {
   "cell_type": "code",
   "execution_count": 9,
   "metadata": {},
   "outputs": [
    {
     "name": "stdout",
     "output_type": "stream",
     "text": [
      "Def Before Dishonor\n",
      "Demos and Outtakes\n",
      "Original Ill\n",
      "Cooky Puss [1983]\n",
      "Krush Groove [1985]\n"
     ]
    }
   ],
   "source": [
    "# Throw your i in the air and print like you just don't care!\n",
    "for i in albums[:5]:\n",
    "    print(i.text)"
   ]
  },
  {
   "cell_type": "code",
   "execution_count": 10,
   "metadata": {},
   "outputs": [],
   "source": [
    "#Add a witty comment here.\n",
    "songs = soup.find_all('td',{'class': 'tal qx'})"
   ]
  },
  {
   "cell_type": "code",
   "execution_count": 11,
   "metadata": {},
   "outputs": [
    {
     "name": "stdout",
     "output_type": "stream",
     "text": [
      "And What You Give Is What You Get\n",
      "33% God\n",
      "Beastie Boys\n",
      "Egg Raid on Mojo\n",
      "Hey Ladies/Shake Your Rump\n"
     ]
    }
   ],
   "source": [
    "for i in songs[::2][:5]:\n",
    "    print(i.text)"
   ]
  },
  {
   "cell_type": "code",
   "execution_count": 12,
   "metadata": {},
   "outputs": [
    {
     "data": {
      "text/plain": [
       "'/lyric/13976227/Beastie+Boys/And+What+You+Give+Is+What+You+Get'"
      ]
     },
     "execution_count": 12,
     "metadata": {},
     "output_type": "execute_result"
    }
   ],
   "source": [
    "#More junk in the Truncation:\n",
    "#https://www.lyrics.com/lyric/13976227/Beastie+Boys/And+What+You+Give+Is+What+You+Get\n",
    "#Meaning the link above is a reference to the Song Title and Lyrics for the song\n",
    "songs[0].a.attrs['href']"
   ]
  },
  {
   "cell_type": "code",
   "execution_count": 13,
   "metadata": {},
   "outputs": [],
   "source": [
    "#DJ crank the BASE...url.\n",
    "url = 'https://www.lyrics.com'"
   ]
  },
  {
   "cell_type": "code",
   "execution_count": 14,
   "metadata": {},
   "outputs": [],
   "source": [
    "lyrics = url + songs[0].a.attrs['href']"
   ]
  },
  {
   "cell_type": "code",
   "execution_count": 15,
   "metadata": {},
   "outputs": [],
   "source": [
    "#\n",
    "def lookup():\n",
    "    #It takes a second to get the results intp a df, so hold tight!\n",
    "    artist = input(\"Find the artist! (and be patient!)  \")\n",
    "    if len(artist.split()) < 2:\n",
    "        #If there are more than two artists with the same name, add a way to tell them apart\n",
    "        url = 'https://www.lyrics.com/artist/' + artist.split(' ')[0].lower()\n",
    "    else:\n",
    "        url = 'https://www.lyrics.com/artist/' + artist.split(' ')[0].lower()\n",
    "    for i in range(1, len(artist.split())):\n",
    "        url = url + '%20' + artist.split(' ')[i].lower()\n",
    "    req = requests.get(url)\n",
    "    soup = BeautifulSoup(req.text, 'html.parser')\n",
    "    alb = []\n",
    "    #art = []\n",
    "    s = []\n",
    "    albums = soup.find_all('h3', {'class': 'artist-album-label'})\n",
    "    for i in albums:\n",
    "        alb.append(i.text)\n",
    "    songs = soup.find_all('td',{'class': 'tal qx'})\n",
    "    for i in songs[::2]:\n",
    "        s.append(i.text)\n",
    "    #for i in artist:\n",
    "        #art.append(i.text)\n",
    "    #for i in songs[1::2]:\n",
    "       # ti.append(i.text)\n",
    "    base = 'https://www.lyrics.com'\n",
    "    l = []\n",
    "    for i in range(len(songs)):\n",
    "        if songs[i].a is None:\n",
    "            pass\n",
    "        else:\n",
    "            lyrics = base + songs[i].a.attrs['href']\n",
    "            url = lyrics\n",
    "            req = requests.get(url)\n",
    "            soup = BeautifulSoup(req.text, 'html.parser')\n",
    "            l.append(soup.find('pre', {'id': 'lyric-body-text'}).text)\n",
    "    df = pd.DataFrame({'song': s, 'lyrics': l }) #'Time':ti | 'Artist': art,\n",
    "    return df"
   ]
  },
  {
   "cell_type": "code",
   "execution_count": 16,
   "metadata": {},
   "outputs": [
    {
     "name": "stdout",
     "output_type": "stream",
     "text": [
      "Find the artist! (and be patient!)  Snoop+Dogg\n"
     ]
    },
    {
     "data": {
      "text/html": [
       "<div>\n",
       "<style scoped>\n",
       "    .dataframe tbody tr th:only-of-type {\n",
       "        vertical-align: middle;\n",
       "    }\n",
       "\n",
       "    .dataframe tbody tr th {\n",
       "        vertical-align: top;\n",
       "    }\n",
       "\n",
       "    .dataframe thead th {\n",
       "        text-align: right;\n",
       "    }\n",
       "</style>\n",
       "<table border=\"1\" class=\"dataframe\">\n",
       "  <thead>\n",
       "    <tr style=\"text-align: right;\">\n",
       "      <th></th>\n",
       "      <th>song</th>\n",
       "      <th>lyrics</th>\n",
       "    </tr>\n",
       "  </thead>\n",
       "  <tbody>\n",
       "    <tr>\n",
       "      <th>0</th>\n",
       "      <td>California Dreamingw/ Paul Rey, Arman Cekin</td>\n",
       "      <td>These palm trees they sway\\r\\nEach night and e...</td>\n",
       "    </tr>\n",
       "    <tr>\n",
       "      <th>1</th>\n",
       "      <td>WWIIIw/ Scarface, Ruff Ryders, Jadakiss, Yung Wun</td>\n",
       "      <td>Ruff Ryders (ruff ryders)\\r\\nRyde or die, volu...</td>\n",
       "    </tr>\n",
       "    <tr>\n",
       "      <th>2</th>\n",
       "      <td>Dumb Shitw/ Tyrese</td>\n",
       "      <td>I really messed up\\r\\nCan you call me back bab...</td>\n",
       "    </tr>\n",
       "    <tr>\n",
       "      <th>3</th>\n",
       "      <td>Gucci Flip Flops [Remix]w/ Plies, Bhad Bhabie</td>\n",
       "      <td>30, you a fool for this one (Cheeze)\\r\\n\\r\\nGu...</td>\n",
       "    </tr>\n",
       "    <tr>\n",
       "      <th>4</th>\n",
       "      <td>How You Love Mew/ Hardwell, Conor Maynard</td>\n",
       "      <td>Big Snoop Dogg\\r\\nMy nephew Hardwell on the be...</td>\n",
       "    </tr>\n",
       "    <tr>\n",
       "      <th>5</th>\n",
       "      <td>My Favourite Colorw/ Big Hutch</td>\n",
       "      <td>Man what the f*ck do you think we're doin' her...</td>\n",
       "    </tr>\n",
       "    <tr>\n",
       "      <th>6</th>\n",
       "      <td>Do What I Feelw/ Tha Dogg Pound, Nate Dogg, Da...</td>\n",
       "      <td>\\r\\n \\r\\r\\n\\r\\r\\n[Featuring The Lady Of Rage] ...</td>\n",
       "    </tr>\n",
       "    <tr>\n",
       "      <th>7</th>\n",
       "      <td>G'z and Hustlasw/ Tha Dogg Pound, Nate Dogg, D...</td>\n",
       "      <td>[Chorus]\\r\\nThis is for the Gz, and this is fo...</td>\n",
       "    </tr>\n",
       "    <tr>\n",
       "      <th>8</th>\n",
       "      <td>Some Bomb Azz (Pussy)w/ Tha Dogg Pound, Nate D...</td>\n",
       "      <td>Daz, come check it out\\r\\nNigga, get the camer...</td>\n",
       "    </tr>\n",
       "    <tr>\n",
       "      <th>9</th>\n",
       "      <td>Oh Yeahw/ Jaicko</td>\n",
       "      <td>Yeah, (ha ha)\\n\\nOh yeah, oh yeah, oh yeah\\n\\n...</td>\n",
       "    </tr>\n",
       "    <tr>\n",
       "      <th>10</th>\n",
       "      <td>Kush [Music Video]w/ Dr. Dre, Akon</td>\n",
       "      <td>Roll up, wait a minute\\r\\nLet me put some kush...</td>\n",
       "    </tr>\n",
       "    <tr>\n",
       "      <th>11</th>\n",
       "      <td>The Next Episode [Music Video]w/ Dr. Dre, Nate...</td>\n",
       "      <td>La-da-da-da-dahh\\r\\nIt's the motherf*ckin D-O-...</td>\n",
       "    </tr>\n",
       "    <tr>\n",
       "      <th>12</th>\n",
       "      <td>What's My Name</td>\n",
       "      <td>From the depths of the sea, back to the block\\...</td>\n",
       "    </tr>\n",
       "    <tr>\n",
       "      <th>13</th>\n",
       "      <td>Top of the Worldw/ Kimbra</td>\n",
       "      <td>On my knees, all my life I've been sold a chas...</td>\n",
       "    </tr>\n",
       "    <tr>\n",
       "      <th>14</th>\n",
       "      <td>You and Your Friendsw/ Wiz Khalifa, Ty Dolla $ign</td>\n",
       "      <td>I got all these J's rolled up\\r\\nAnd got all t...</td>\n",
       "    </tr>\n",
       "    <tr>\n",
       "      <th>15</th>\n",
       "      <td>I Walk the Line [ODT Muzic Remix]w/ Johnny Cash</td>\n",
       "      <td>I keep a close watch on this heart of mine\\r\\n...</td>\n",
       "    </tr>\n",
       "    <tr>\n",
       "      <th>16</th>\n",
       "      <td>Gangsta Gangsta [*]w/ C-Murder</td>\n",
       "      <td>Ah shit. Man, them pinche black gangstas are a...</td>\n",
       "    </tr>\n",
       "    <tr>\n",
       "      <th>17</th>\n",
       "      <td>Deep Coverw/ Dr. Dre</td>\n",
       "      <td>Tonight's the night I get in some shit (yeah)\\...</td>\n",
       "    </tr>\n",
       "    <tr>\n",
       "      <th>18</th>\n",
       "      <td>The $20 Sack Pyramidw/ D.O.C., Dr. Dre, Samara...</td>\n",
       "      <td>Damn, it seems its always something with the f...</td>\n",
       "    </tr>\n",
       "    <tr>\n",
       "      <th>19</th>\n",
       "      <td>The Chronic (Intro)w/ Dr. Dre</td>\n",
       "      <td>This is dedicated to the niggas that was been ...</td>\n",
       "    </tr>\n",
       "    <tr>\n",
       "      <th>20</th>\n",
       "      <td>Deeez Nuuutsw/ Dr. Dre, Warren G, Dat Nigga Da...</td>\n",
       "      <td>Chiggie check, microphone check one\\nChiggie c...</td>\n",
       "    </tr>\n",
       "    <tr>\n",
       "      <th>21</th>\n",
       "      <td>Doggy Dogg World [DVD]w/ The Dramatics, Dogg P...</td>\n",
       "      <td>We'd like to welcome y'all to the fabulous Car...</td>\n",
       "    </tr>\n",
       "    <tr>\n",
       "      <th>22</th>\n",
       "      <td>Tha Shiznit [DVD]</td>\n",
       "      <td>Poppin', stoppin', hoppin' like a rabbit\\r\\nWh...</td>\n",
       "    </tr>\n",
       "    <tr>\n",
       "      <th>23</th>\n",
       "      <td>Ain't No Fun (If the Homies Can't Have None)w/...</td>\n",
       "      <td>You're back now at the jack-off hour this is D...</td>\n",
       "    </tr>\n",
       "    <tr>\n",
       "      <th>24</th>\n",
       "      <td>Bathtub</td>\n",
       "      <td>That felt good\\r\\n(Does it baby?)\\r\\nYeah, rub...</td>\n",
       "    </tr>\n",
       "    <tr>\n",
       "      <th>25</th>\n",
       "      <td>Doggy Dogg Worldw/ The Dramatics, Tha Dogg Pound</td>\n",
       "      <td>We'd like to welcome y'all to the fabulous Car...</td>\n",
       "    </tr>\n",
       "    <tr>\n",
       "      <th>26</th>\n",
       "      <td>For All My Niggaz &amp; Bitchesw/ The Lady of Rage...</td>\n",
       "      <td>Well it's that slow flow, D-O-double-G, nigga\\...</td>\n",
       "    </tr>\n",
       "    <tr>\n",
       "      <th>27</th>\n",
       "      <td>G Funk (Intro)</td>\n",
       "      <td>Yeah,\\nThis is another story about dogs\\nFor t...</td>\n",
       "    </tr>\n",
       "    <tr>\n",
       "      <th>28</th>\n",
       "      <td>Gin and Juicew/ Dat Nigga Daz</td>\n",
       "      <td>Heah hah hah!\\r\\nI'm serious nigga one of y'al...</td>\n",
       "    </tr>\n",
       "    <tr>\n",
       "      <th>29</th>\n",
       "      <td>GZ and Hustlasw/ Nanci Fletcher</td>\n",
       "      <td>This is for the Gz, and this is for the Hustla...</td>\n",
       "    </tr>\n",
       "    <tr>\n",
       "      <th>...</th>\n",
       "      <td>...</td>\n",
       "      <td>...</td>\n",
       "    </tr>\n",
       "    <tr>\n",
       "      <th>769</th>\n",
       "      <td>Always Got Something to Say</td>\n",
       "      <td>Heavenly Father\\r\\nI wanna thank you for what ...</td>\n",
       "    </tr>\n",
       "    <tr>\n",
       "      <th>770</th>\n",
       "      <td>Blessing Me Againw/ Rance Allen</td>\n",
       "      <td>Blessing me (blessing me)\\r\\nOh yeah (can't yo...</td>\n",
       "    </tr>\n",
       "    <tr>\n",
       "      <th>771</th>\n",
       "      <td>Call Himw/ Fred Hammond</td>\n",
       "      <td>Excuse me\\r\\nExcuse me, thank you\\r\\nHello, he...</td>\n",
       "    </tr>\n",
       "    <tr>\n",
       "      <th>772</th>\n",
       "      <td>Come as You Arew/ Mary Mary, Marvin Sapp</td>\n",
       "      <td>I know, they mighta told you\\r\\nThat you had t...</td>\n",
       "    </tr>\n",
       "    <tr>\n",
       "      <th>773</th>\n",
       "      <td>Defeatedw/ John P. Kee</td>\n",
       "      <td>Father, we pray this morning for the spirit of...</td>\n",
       "    </tr>\n",
       "    <tr>\n",
       "      <th>774</th>\n",
       "      <td>Going Homew/ Uncle Chucc, The Zion Messengers</td>\n",
       "      <td>Soon I will be done\\r\\nWith the trouble of the...</td>\n",
       "    </tr>\n",
       "    <tr>\n",
       "      <th>775</th>\n",
       "      <td>In the Name of Jesusw/ October London</td>\n",
       "      <td>For those of you that don't have anything to b...</td>\n",
       "    </tr>\n",
       "    <tr>\n",
       "      <th>776</th>\n",
       "      <td>Love for Godw/ Uncle Chucc, K-Ci, The Zion Mes...</td>\n",
       "      <td>I got so much\\r\\nHmm to love God for\\r\\nSay it...</td>\n",
       "    </tr>\n",
       "    <tr>\n",
       "      <th>777</th>\n",
       "      <td>My Godw/ James Wright</td>\n",
       "      <td>Come on and sit down, baby\\r\\nI wanna tell you...</td>\n",
       "    </tr>\n",
       "    <tr>\n",
       "      <th>778</th>\n",
       "      <td>One More Dayw/ Charlie Wilson</td>\n",
       "      <td>It's just one more day\\r\\nThe lord has kept me...</td>\n",
       "    </tr>\n",
       "    <tr>\n",
       "      <th>779</th>\n",
       "      <td>Savedw/ Faith Evans, 3rd Generation (Bereal Fa...</td>\n",
       "      <td>I found a friend who is all to me\\r\\nHis love,...</td>\n",
       "    </tr>\n",
       "    <tr>\n",
       "      <th>780</th>\n",
       "      <td>Thank You Lord (Intro)w/ Chris Bolton</td>\n",
       "      <td>Church say amen (Amen!)\\r\\nCould everyone plea...</td>\n",
       "    </tr>\n",
       "    <tr>\n",
       "      <th>781</th>\n",
       "      <td>When It's All Overw/ Patti LaBelle</td>\n",
       "      <td>I shall wear it\\r\\nI shall wear a crown\\r\\nWhe...</td>\n",
       "    </tr>\n",
       "    <tr>\n",
       "      <th>782</th>\n",
       "      <td>Words Are Feww/ B. Slade</td>\n",
       "      <td>There are times when I don't wanna speak\\r\\nGr...</td>\n",
       "    </tr>\n",
       "    <tr>\n",
       "      <th>783</th>\n",
       "      <td>Youw/ Tye Tribbett</td>\n",
       "      <td>Okay, are y'all ready?\\r\\nTurn it up, Snoop\\r\\...</td>\n",
       "    </tr>\n",
       "    <tr>\n",
       "      <th>784</th>\n",
       "      <td>Dope Niggazw/ Lil Wayne</td>\n",
       "      <td>I thank the Lord I'm not a broke nigga\\r\\nI'm ...</td>\n",
       "    </tr>\n",
       "    <tr>\n",
       "      <th>785</th>\n",
       "      <td>Hollywoodw/ Jamie Principle, Gorillaz</td>\n",
       "      <td>Where the beautiful people at?\\r\\nI said where...</td>\n",
       "    </tr>\n",
       "    <tr>\n",
       "      <th>786</th>\n",
       "      <td>Movesw/ Olly Murs</td>\n",
       "      <td>Olly Murs\\r\\nBig Snoop Dogg\\r\\nYou know we 'bo...</td>\n",
       "    </tr>\n",
       "    <tr>\n",
       "      <th>787</th>\n",
       "      <td>Last Foreverw/ Rick Ross, Russ</td>\n",
       "      <td>I think this might be paradise\\r\\nI just hope ...</td>\n",
       "    </tr>\n",
       "    <tr>\n",
       "      <th>788</th>\n",
       "      <td>Be Nicew/ The Black Eyed Peas</td>\n",
       "      <td>Be nice\\r\\nBe nice\\r\\nBe nice\\r\\nBe nice\\r\\n\\r...</td>\n",
       "    </tr>\n",
       "    <tr>\n",
       "      <th>789</th>\n",
       "      <td>Countdownw/ Swizz Beatz</td>\n",
       "      <td>Ten, nine, eight, seven, six, five\\r\\nFour, th...</td>\n",
       "    </tr>\n",
       "    <tr>\n",
       "      <th>790</th>\n",
       "      <td>Do It When I'm in Itw/ Jermaine Dupri</td>\n",
       "      <td>(Hi Music Hi Flow)\\r\\nY'all know who this is\\r...</td>\n",
       "    </tr>\n",
       "    <tr>\n",
       "      <th>791</th>\n",
       "      <td>I Wanna Thank Mew/ Marknoxx</td>\n",
       "      <td>Last but not least, I wanna thank me\\r\\nI wann...</td>\n",
       "    </tr>\n",
       "    <tr>\n",
       "      <th>792</th>\n",
       "      <td>One Blood, One Cuzzw/ DJ Battlecat</td>\n",
       "      <td>Top of the morning\\r\\nIt's just something I wa...</td>\n",
       "    </tr>\n",
       "    <tr>\n",
       "      <th>793</th>\n",
       "      <td>Take Me Awayw/ Wiz Khalifa, Russ</td>\n",
       "      <td>Yeah\\r\\nYeah, Russ, Wiz, Snoop Dogg\\r\\nI don't...</td>\n",
       "    </tr>\n",
       "    <tr>\n",
       "      <th>794</th>\n",
       "      <td>Turn Me Onw/ Chris Brown</td>\n",
       "      <td>Ladies and gentlemen (yay)\\r\\nYou are now tune...</td>\n",
       "    </tr>\n",
       "    <tr>\n",
       "      <th>795</th>\n",
       "      <td>What U Talkin' Bout</td>\n",
       "      <td>I hate when a motherf*cker come talkin' to me ...</td>\n",
       "    </tr>\n",
       "    <tr>\n",
       "      <th>796</th>\n",
       "      <td>Wintertime in Junew/ Nate Dogg</td>\n",
       "      <td>Well, you're caught, motherf*cker\\r\\nWent to t...</td>\n",
       "    </tr>\n",
       "    <tr>\n",
       "      <th>797</th>\n",
       "      <td>Onda Diferentew/ Anitta, Ludmilla, Papatinho</td>\n",
       "      <td>A noite está cada vez melhor\\r\\nAs minhas pern...</td>\n",
       "    </tr>\n",
       "    <tr>\n",
       "      <th>798</th>\n",
       "      <td>West Coastw/ Lacrim</td>\n",
       "      <td>Bellektric\\r\\n\\r\\nDe Paname, on est venu sur l...</td>\n",
       "    </tr>\n",
       "  </tbody>\n",
       "</table>\n",
       "<p>799 rows × 2 columns</p>\n",
       "</div>"
      ],
      "text/plain": [
       "                                                  song  \\\n",
       "0          California Dreamingw/ Paul Rey, Arman Cekin   \n",
       "1    WWIIIw/ Scarface, Ruff Ryders, Jadakiss, Yung Wun   \n",
       "2                                   Dumb Shitw/ Tyrese   \n",
       "3        Gucci Flip Flops [Remix]w/ Plies, Bhad Bhabie   \n",
       "4            How You Love Mew/ Hardwell, Conor Maynard   \n",
       "5                       My Favourite Colorw/ Big Hutch   \n",
       "6    Do What I Feelw/ Tha Dogg Pound, Nate Dogg, Da...   \n",
       "7    G'z and Hustlasw/ Tha Dogg Pound, Nate Dogg, D...   \n",
       "8    Some Bomb Azz (Pussy)w/ Tha Dogg Pound, Nate D...   \n",
       "9                                     Oh Yeahw/ Jaicko   \n",
       "10                  Kush [Music Video]w/ Dr. Dre, Akon   \n",
       "11   The Next Episode [Music Video]w/ Dr. Dre, Nate...   \n",
       "12                                      What's My Name   \n",
       "13                           Top of the Worldw/ Kimbra   \n",
       "14   You and Your Friendsw/ Wiz Khalifa, Ty Dolla $ign   \n",
       "15     I Walk the Line [ODT Muzic Remix]w/ Johnny Cash   \n",
       "16                      Gangsta Gangsta [*]w/ C-Murder   \n",
       "17                                Deep Coverw/ Dr. Dre   \n",
       "18   The $20 Sack Pyramidw/ D.O.C., Dr. Dre, Samara...   \n",
       "19                       The Chronic (Intro)w/ Dr. Dre   \n",
       "20   Deeez Nuuutsw/ Dr. Dre, Warren G, Dat Nigga Da...   \n",
       "21   Doggy Dogg World [DVD]w/ The Dramatics, Dogg P...   \n",
       "22                                   Tha Shiznit [DVD]   \n",
       "23   Ain't No Fun (If the Homies Can't Have None)w/...   \n",
       "24                                             Bathtub   \n",
       "25    Doggy Dogg Worldw/ The Dramatics, Tha Dogg Pound   \n",
       "26   For All My Niggaz & Bitchesw/ The Lady of Rage...   \n",
       "27                                      G Funk (Intro)   \n",
       "28                       Gin and Juicew/ Dat Nigga Daz   \n",
       "29                     GZ and Hustlasw/ Nanci Fletcher   \n",
       "..                                                 ...   \n",
       "769                        Always Got Something to Say   \n",
       "770                    Blessing Me Againw/ Rance Allen   \n",
       "771                            Call Himw/ Fred Hammond   \n",
       "772           Come as You Arew/ Mary Mary, Marvin Sapp   \n",
       "773                             Defeatedw/ John P. Kee   \n",
       "774      Going Homew/ Uncle Chucc, The Zion Messengers   \n",
       "775              In the Name of Jesusw/ October London   \n",
       "776  Love for Godw/ Uncle Chucc, K-Ci, The Zion Mes...   \n",
       "777                              My Godw/ James Wright   \n",
       "778                      One More Dayw/ Charlie Wilson   \n",
       "779  Savedw/ Faith Evans, 3rd Generation (Bereal Fa...   \n",
       "780              Thank You Lord (Intro)w/ Chris Bolton   \n",
       "781                 When It's All Overw/ Patti LaBelle   \n",
       "782                           Words Are Feww/ B. Slade   \n",
       "783                                 Youw/ Tye Tribbett   \n",
       "784                            Dope Niggazw/ Lil Wayne   \n",
       "785              Hollywoodw/ Jamie Principle, Gorillaz   \n",
       "786                                  Movesw/ Olly Murs   \n",
       "787                     Last Foreverw/ Rick Ross, Russ   \n",
       "788                      Be Nicew/ The Black Eyed Peas   \n",
       "789                            Countdownw/ Swizz Beatz   \n",
       "790              Do It When I'm in Itw/ Jermaine Dupri   \n",
       "791                        I Wanna Thank Mew/ Marknoxx   \n",
       "792                 One Blood, One Cuzzw/ DJ Battlecat   \n",
       "793                   Take Me Awayw/ Wiz Khalifa, Russ   \n",
       "794                           Turn Me Onw/ Chris Brown   \n",
       "795                                What U Talkin' Bout   \n",
       "796                     Wintertime in Junew/ Nate Dogg   \n",
       "797       Onda Diferentew/ Anitta, Ludmilla, Papatinho   \n",
       "798                                West Coastw/ Lacrim   \n",
       "\n",
       "                                                lyrics  \n",
       "0    These palm trees they sway\\r\\nEach night and e...  \n",
       "1    Ruff Ryders (ruff ryders)\\r\\nRyde or die, volu...  \n",
       "2    I really messed up\\r\\nCan you call me back bab...  \n",
       "3    30, you a fool for this one (Cheeze)\\r\\n\\r\\nGu...  \n",
       "4    Big Snoop Dogg\\r\\nMy nephew Hardwell on the be...  \n",
       "5    Man what the f*ck do you think we're doin' her...  \n",
       "6    \\r\\n \\r\\r\\n\\r\\r\\n[Featuring The Lady Of Rage] ...  \n",
       "7    [Chorus]\\r\\nThis is for the Gz, and this is fo...  \n",
       "8    Daz, come check it out\\r\\nNigga, get the camer...  \n",
       "9    Yeah, (ha ha)\\n\\nOh yeah, oh yeah, oh yeah\\n\\n...  \n",
       "10   Roll up, wait a minute\\r\\nLet me put some kush...  \n",
       "11   La-da-da-da-dahh\\r\\nIt's the motherf*ckin D-O-...  \n",
       "12   From the depths of the sea, back to the block\\...  \n",
       "13   On my knees, all my life I've been sold a chas...  \n",
       "14   I got all these J's rolled up\\r\\nAnd got all t...  \n",
       "15   I keep a close watch on this heart of mine\\r\\n...  \n",
       "16   Ah shit. Man, them pinche black gangstas are a...  \n",
       "17   Tonight's the night I get in some shit (yeah)\\...  \n",
       "18   Damn, it seems its always something with the f...  \n",
       "19   This is dedicated to the niggas that was been ...  \n",
       "20   Chiggie check, microphone check one\\nChiggie c...  \n",
       "21   We'd like to welcome y'all to the fabulous Car...  \n",
       "22   Poppin', stoppin', hoppin' like a rabbit\\r\\nWh...  \n",
       "23   You're back now at the jack-off hour this is D...  \n",
       "24   That felt good\\r\\n(Does it baby?)\\r\\nYeah, rub...  \n",
       "25   We'd like to welcome y'all to the fabulous Car...  \n",
       "26   Well it's that slow flow, D-O-double-G, nigga\\...  \n",
       "27   Yeah,\\nThis is another story about dogs\\nFor t...  \n",
       "28   Heah hah hah!\\r\\nI'm serious nigga one of y'al...  \n",
       "29   This is for the Gz, and this is for the Hustla...  \n",
       "..                                                 ...  \n",
       "769  Heavenly Father\\r\\nI wanna thank you for what ...  \n",
       "770  Blessing me (blessing me)\\r\\nOh yeah (can't yo...  \n",
       "771  Excuse me\\r\\nExcuse me, thank you\\r\\nHello, he...  \n",
       "772  I know, they mighta told you\\r\\nThat you had t...  \n",
       "773  Father, we pray this morning for the spirit of...  \n",
       "774  Soon I will be done\\r\\nWith the trouble of the...  \n",
       "775  For those of you that don't have anything to b...  \n",
       "776  I got so much\\r\\nHmm to love God for\\r\\nSay it...  \n",
       "777  Come on and sit down, baby\\r\\nI wanna tell you...  \n",
       "778  It's just one more day\\r\\nThe lord has kept me...  \n",
       "779  I found a friend who is all to me\\r\\nHis love,...  \n",
       "780  Church say amen (Amen!)\\r\\nCould everyone plea...  \n",
       "781  I shall wear it\\r\\nI shall wear a crown\\r\\nWhe...  \n",
       "782  There are times when I don't wanna speak\\r\\nGr...  \n",
       "783  Okay, are y'all ready?\\r\\nTurn it up, Snoop\\r\\...  \n",
       "784  I thank the Lord I'm not a broke nigga\\r\\nI'm ...  \n",
       "785  Where the beautiful people at?\\r\\nI said where...  \n",
       "786  Olly Murs\\r\\nBig Snoop Dogg\\r\\nYou know we 'bo...  \n",
       "787  I think this might be paradise\\r\\nI just hope ...  \n",
       "788  Be nice\\r\\nBe nice\\r\\nBe nice\\r\\nBe nice\\r\\n\\r...  \n",
       "789  Ten, nine, eight, seven, six, five\\r\\nFour, th...  \n",
       "790  (Hi Music Hi Flow)\\r\\nY'all know who this is\\r...  \n",
       "791  Last but not least, I wanna thank me\\r\\nI wann...  \n",
       "792  Top of the morning\\r\\nIt's just something I wa...  \n",
       "793  Yeah\\r\\nYeah, Russ, Wiz, Snoop Dogg\\r\\nI don't...  \n",
       "794  Ladies and gentlemen (yay)\\r\\nYou are now tune...  \n",
       "795  I hate when a motherf*cker come talkin' to me ...  \n",
       "796  Well, you're caught, motherf*cker\\r\\nWent to t...  \n",
       "797  A noite está cada vez melhor\\r\\nAs minhas pern...  \n",
       "798  Bellektric\\r\\n\\r\\nDe Paname, on est venu sur l...  \n",
       "\n",
       "[799 rows x 2 columns]"
      ]
     },
     "execution_count": 16,
     "metadata": {},
     "output_type": "execute_result"
    }
   ],
   "source": [
    "#Beastie+Boys and Snoop+ Dogg\n",
    "lookup()"
   ]
  },
  {
   "cell_type": "code",
   "execution_count": 17,
   "metadata": {},
   "outputs": [
    {
     "name": "stdout",
     "output_type": "stream",
     "text": [
      "Find the artist! (and be patient!)  Snoop+Dogg\n"
     ]
    }
   ],
   "source": [
    "snoop = lookup()"
   ]
  },
  {
   "cell_type": "code",
   "execution_count": 18,
   "metadata": {},
   "outputs": [
    {
     "data": {
      "text/plain": [
       "pandas.core.frame.DataFrame"
      ]
     },
     "execution_count": 18,
     "metadata": {},
     "output_type": "execute_result"
    }
   ],
   "source": [
    "type(snoop)"
   ]
  },
  {
   "cell_type": "code",
   "execution_count": 19,
   "metadata": {},
   "outputs": [],
   "source": [
    "#Passing the Mic\n",
    "df = pd.DataFrame(snoop)"
   ]
  },
  {
   "cell_type": "code",
   "execution_count": 20,
   "metadata": {},
   "outputs": [
    {
     "data": {
      "text/html": [
       "<div>\n",
       "<style scoped>\n",
       "    .dataframe tbody tr th:only-of-type {\n",
       "        vertical-align: middle;\n",
       "    }\n",
       "\n",
       "    .dataframe tbody tr th {\n",
       "        vertical-align: top;\n",
       "    }\n",
       "\n",
       "    .dataframe thead th {\n",
       "        text-align: right;\n",
       "    }\n",
       "</style>\n",
       "<table border=\"1\" class=\"dataframe\">\n",
       "  <thead>\n",
       "    <tr style=\"text-align: right;\">\n",
       "      <th></th>\n",
       "      <th>song</th>\n",
       "      <th>lyrics</th>\n",
       "    </tr>\n",
       "  </thead>\n",
       "  <tbody>\n",
       "    <tr>\n",
       "      <th>0</th>\n",
       "      <td>California Dreamingw/ Paul Rey, Arman Cekin</td>\n",
       "      <td>These palm trees they sway\\r\\nEach night and e...</td>\n",
       "    </tr>\n",
       "    <tr>\n",
       "      <th>1</th>\n",
       "      <td>WWIIIw/ Scarface, Ruff Ryders, Jadakiss, Yung Wun</td>\n",
       "      <td>Ruff Ryders (ruff ryders)\\r\\nRyde or die, volu...</td>\n",
       "    </tr>\n",
       "    <tr>\n",
       "      <th>2</th>\n",
       "      <td>Dumb Shitw/ Tyrese</td>\n",
       "      <td>I really messed up\\r\\nCan you call me back bab...</td>\n",
       "    </tr>\n",
       "    <tr>\n",
       "      <th>3</th>\n",
       "      <td>Gucci Flip Flops [Remix]w/ Plies, Bhad Bhabie</td>\n",
       "      <td>30, you a fool for this one (Cheeze)\\r\\n\\r\\nGu...</td>\n",
       "    </tr>\n",
       "    <tr>\n",
       "      <th>4</th>\n",
       "      <td>How You Love Mew/ Hardwell, Conor Maynard</td>\n",
       "      <td>Big Snoop Dogg\\r\\nMy nephew Hardwell on the be...</td>\n",
       "    </tr>\n",
       "    <tr>\n",
       "      <th>5</th>\n",
       "      <td>My Favourite Colorw/ Big Hutch</td>\n",
       "      <td>Man what the f*ck do you think we're doin' her...</td>\n",
       "    </tr>\n",
       "    <tr>\n",
       "      <th>6</th>\n",
       "      <td>Do What I Feelw/ Tha Dogg Pound, Nate Dogg, Da...</td>\n",
       "      <td>\\r\\n \\r\\r\\n\\r\\r\\n[Featuring The Lady Of Rage] ...</td>\n",
       "    </tr>\n",
       "    <tr>\n",
       "      <th>7</th>\n",
       "      <td>G'z and Hustlasw/ Tha Dogg Pound, Nate Dogg, D...</td>\n",
       "      <td>[Chorus]\\r\\nThis is for the Gz, and this is fo...</td>\n",
       "    </tr>\n",
       "    <tr>\n",
       "      <th>8</th>\n",
       "      <td>Some Bomb Azz (Pussy)w/ Tha Dogg Pound, Nate D...</td>\n",
       "      <td>Daz, come check it out\\r\\nNigga, get the camer...</td>\n",
       "    </tr>\n",
       "    <tr>\n",
       "      <th>9</th>\n",
       "      <td>Oh Yeahw/ Jaicko</td>\n",
       "      <td>Yeah, (ha ha)\\n\\nOh yeah, oh yeah, oh yeah\\n\\n...</td>\n",
       "    </tr>\n",
       "    <tr>\n",
       "      <th>10</th>\n",
       "      <td>Kush [Music Video]w/ Dr. Dre, Akon</td>\n",
       "      <td>Roll up, wait a minute\\r\\nLet me put some kush...</td>\n",
       "    </tr>\n",
       "    <tr>\n",
       "      <th>11</th>\n",
       "      <td>The Next Episode [Music Video]w/ Dr. Dre, Nate...</td>\n",
       "      <td>La-da-da-da-dahh\\r\\nIt's the motherf*ckin D-O-...</td>\n",
       "    </tr>\n",
       "    <tr>\n",
       "      <th>12</th>\n",
       "      <td>What's My Name</td>\n",
       "      <td>From the depths of the sea, back to the block\\...</td>\n",
       "    </tr>\n",
       "    <tr>\n",
       "      <th>13</th>\n",
       "      <td>Top of the Worldw/ Kimbra</td>\n",
       "      <td>On my knees, all my life I've been sold a chas...</td>\n",
       "    </tr>\n",
       "    <tr>\n",
       "      <th>14</th>\n",
       "      <td>You and Your Friendsw/ Wiz Khalifa, Ty Dolla $ign</td>\n",
       "      <td>I got all these J's rolled up\\r\\nAnd got all t...</td>\n",
       "    </tr>\n",
       "    <tr>\n",
       "      <th>15</th>\n",
       "      <td>I Walk the Line [ODT Muzic Remix]w/ Johnny Cash</td>\n",
       "      <td>I keep a close watch on this heart of mine\\r\\n...</td>\n",
       "    </tr>\n",
       "    <tr>\n",
       "      <th>16</th>\n",
       "      <td>Gangsta Gangsta [*]w/ C-Murder</td>\n",
       "      <td>Ah shit. Man, them pinche black gangstas are a...</td>\n",
       "    </tr>\n",
       "    <tr>\n",
       "      <th>17</th>\n",
       "      <td>Deep Coverw/ Dr. Dre</td>\n",
       "      <td>Tonight's the night I get in some shit (yeah)\\...</td>\n",
       "    </tr>\n",
       "    <tr>\n",
       "      <th>18</th>\n",
       "      <td>The $20 Sack Pyramidw/ D.O.C., Dr. Dre, Samara...</td>\n",
       "      <td>Damn, it seems its always something with the f...</td>\n",
       "    </tr>\n",
       "    <tr>\n",
       "      <th>19</th>\n",
       "      <td>The Chronic (Intro)w/ Dr. Dre</td>\n",
       "      <td>This is dedicated to the niggas that was been ...</td>\n",
       "    </tr>\n",
       "    <tr>\n",
       "      <th>20</th>\n",
       "      <td>Deeez Nuuutsw/ Dr. Dre, Warren G, Dat Nigga Da...</td>\n",
       "      <td>Chiggie check, microphone check one\\nChiggie c...</td>\n",
       "    </tr>\n",
       "    <tr>\n",
       "      <th>21</th>\n",
       "      <td>Doggy Dogg World [DVD]w/ The Dramatics, Dogg P...</td>\n",
       "      <td>We'd like to welcome y'all to the fabulous Car...</td>\n",
       "    </tr>\n",
       "    <tr>\n",
       "      <th>22</th>\n",
       "      <td>Tha Shiznit [DVD]</td>\n",
       "      <td>Poppin', stoppin', hoppin' like a rabbit\\r\\nWh...</td>\n",
       "    </tr>\n",
       "    <tr>\n",
       "      <th>23</th>\n",
       "      <td>Ain't No Fun (If the Homies Can't Have None)w/...</td>\n",
       "      <td>You're back now at the jack-off hour this is D...</td>\n",
       "    </tr>\n",
       "    <tr>\n",
       "      <th>24</th>\n",
       "      <td>Bathtub</td>\n",
       "      <td>That felt good\\r\\n(Does it baby?)\\r\\nYeah, rub...</td>\n",
       "    </tr>\n",
       "    <tr>\n",
       "      <th>25</th>\n",
       "      <td>Doggy Dogg Worldw/ The Dramatics, Tha Dogg Pound</td>\n",
       "      <td>We'd like to welcome y'all to the fabulous Car...</td>\n",
       "    </tr>\n",
       "    <tr>\n",
       "      <th>26</th>\n",
       "      <td>For All My Niggaz &amp; Bitchesw/ The Lady of Rage...</td>\n",
       "      <td>Well it's that slow flow, D-O-double-G, nigga\\...</td>\n",
       "    </tr>\n",
       "    <tr>\n",
       "      <th>27</th>\n",
       "      <td>G Funk (Intro)</td>\n",
       "      <td>Yeah,\\nThis is another story about dogs\\nFor t...</td>\n",
       "    </tr>\n",
       "    <tr>\n",
       "      <th>28</th>\n",
       "      <td>Gin and Juicew/ Dat Nigga Daz</td>\n",
       "      <td>Heah hah hah!\\r\\nI'm serious nigga one of y'al...</td>\n",
       "    </tr>\n",
       "    <tr>\n",
       "      <th>29</th>\n",
       "      <td>GZ and Hustlasw/ Nanci Fletcher</td>\n",
       "      <td>This is for the Gz, and this is for the Hustla...</td>\n",
       "    </tr>\n",
       "    <tr>\n",
       "      <th>...</th>\n",
       "      <td>...</td>\n",
       "      <td>...</td>\n",
       "    </tr>\n",
       "    <tr>\n",
       "      <th>769</th>\n",
       "      <td>Always Got Something to Say</td>\n",
       "      <td>Heavenly Father\\r\\nI wanna thank you for what ...</td>\n",
       "    </tr>\n",
       "    <tr>\n",
       "      <th>770</th>\n",
       "      <td>Blessing Me Againw/ Rance Allen</td>\n",
       "      <td>Blessing me (blessing me)\\r\\nOh yeah (can't yo...</td>\n",
       "    </tr>\n",
       "    <tr>\n",
       "      <th>771</th>\n",
       "      <td>Call Himw/ Fred Hammond</td>\n",
       "      <td>Excuse me\\r\\nExcuse me, thank you\\r\\nHello, he...</td>\n",
       "    </tr>\n",
       "    <tr>\n",
       "      <th>772</th>\n",
       "      <td>Come as You Arew/ Mary Mary, Marvin Sapp</td>\n",
       "      <td>I know, they mighta told you\\r\\nThat you had t...</td>\n",
       "    </tr>\n",
       "    <tr>\n",
       "      <th>773</th>\n",
       "      <td>Defeatedw/ John P. Kee</td>\n",
       "      <td>Father, we pray this morning for the spirit of...</td>\n",
       "    </tr>\n",
       "    <tr>\n",
       "      <th>774</th>\n",
       "      <td>Going Homew/ Uncle Chucc, The Zion Messengers</td>\n",
       "      <td>Soon I will be done\\r\\nWith the trouble of the...</td>\n",
       "    </tr>\n",
       "    <tr>\n",
       "      <th>775</th>\n",
       "      <td>In the Name of Jesusw/ October London</td>\n",
       "      <td>For those of you that don't have anything to b...</td>\n",
       "    </tr>\n",
       "    <tr>\n",
       "      <th>776</th>\n",
       "      <td>Love for Godw/ Uncle Chucc, K-Ci, The Zion Mes...</td>\n",
       "      <td>I got so much\\r\\nHmm to love God for\\r\\nSay it...</td>\n",
       "    </tr>\n",
       "    <tr>\n",
       "      <th>777</th>\n",
       "      <td>My Godw/ James Wright</td>\n",
       "      <td>Come on and sit down, baby\\r\\nI wanna tell you...</td>\n",
       "    </tr>\n",
       "    <tr>\n",
       "      <th>778</th>\n",
       "      <td>One More Dayw/ Charlie Wilson</td>\n",
       "      <td>It's just one more day\\r\\nThe lord has kept me...</td>\n",
       "    </tr>\n",
       "    <tr>\n",
       "      <th>779</th>\n",
       "      <td>Savedw/ Faith Evans, 3rd Generation (Bereal Fa...</td>\n",
       "      <td>I found a friend who is all to me\\r\\nHis love,...</td>\n",
       "    </tr>\n",
       "    <tr>\n",
       "      <th>780</th>\n",
       "      <td>Thank You Lord (Intro)w/ Chris Bolton</td>\n",
       "      <td>Church say amen (Amen!)\\r\\nCould everyone plea...</td>\n",
       "    </tr>\n",
       "    <tr>\n",
       "      <th>781</th>\n",
       "      <td>When It's All Overw/ Patti LaBelle</td>\n",
       "      <td>I shall wear it\\r\\nI shall wear a crown\\r\\nWhe...</td>\n",
       "    </tr>\n",
       "    <tr>\n",
       "      <th>782</th>\n",
       "      <td>Words Are Feww/ B. Slade</td>\n",
       "      <td>There are times when I don't wanna speak\\r\\nGr...</td>\n",
       "    </tr>\n",
       "    <tr>\n",
       "      <th>783</th>\n",
       "      <td>Youw/ Tye Tribbett</td>\n",
       "      <td>Okay, are y'all ready?\\r\\nTurn it up, Snoop\\r\\...</td>\n",
       "    </tr>\n",
       "    <tr>\n",
       "      <th>784</th>\n",
       "      <td>Dope Niggazw/ Lil Wayne</td>\n",
       "      <td>I thank the Lord I'm not a broke nigga\\r\\nI'm ...</td>\n",
       "    </tr>\n",
       "    <tr>\n",
       "      <th>785</th>\n",
       "      <td>Hollywoodw/ Jamie Principle, Gorillaz</td>\n",
       "      <td>Where the beautiful people at?\\r\\nI said where...</td>\n",
       "    </tr>\n",
       "    <tr>\n",
       "      <th>786</th>\n",
       "      <td>Movesw/ Olly Murs</td>\n",
       "      <td>Olly Murs\\r\\nBig Snoop Dogg\\r\\nYou know we 'bo...</td>\n",
       "    </tr>\n",
       "    <tr>\n",
       "      <th>787</th>\n",
       "      <td>Last Foreverw/ Rick Ross, Russ</td>\n",
       "      <td>I think this might be paradise\\r\\nI just hope ...</td>\n",
       "    </tr>\n",
       "    <tr>\n",
       "      <th>788</th>\n",
       "      <td>Be Nicew/ The Black Eyed Peas</td>\n",
       "      <td>Be nice\\r\\nBe nice\\r\\nBe nice\\r\\nBe nice\\r\\n\\r...</td>\n",
       "    </tr>\n",
       "    <tr>\n",
       "      <th>789</th>\n",
       "      <td>Countdownw/ Swizz Beatz</td>\n",
       "      <td>Ten, nine, eight, seven, six, five\\r\\nFour, th...</td>\n",
       "    </tr>\n",
       "    <tr>\n",
       "      <th>790</th>\n",
       "      <td>Do It When I'm in Itw/ Jermaine Dupri</td>\n",
       "      <td>(Hi Music Hi Flow)\\r\\nY'all know who this is\\r...</td>\n",
       "    </tr>\n",
       "    <tr>\n",
       "      <th>791</th>\n",
       "      <td>I Wanna Thank Mew/ Marknoxx</td>\n",
       "      <td>Last but not least, I wanna thank me\\r\\nI wann...</td>\n",
       "    </tr>\n",
       "    <tr>\n",
       "      <th>792</th>\n",
       "      <td>One Blood, One Cuzzw/ DJ Battlecat</td>\n",
       "      <td>Top of the morning\\r\\nIt's just something I wa...</td>\n",
       "    </tr>\n",
       "    <tr>\n",
       "      <th>793</th>\n",
       "      <td>Take Me Awayw/ Wiz Khalifa, Russ</td>\n",
       "      <td>Yeah\\r\\nYeah, Russ, Wiz, Snoop Dogg\\r\\nI don't...</td>\n",
       "    </tr>\n",
       "    <tr>\n",
       "      <th>794</th>\n",
       "      <td>Turn Me Onw/ Chris Brown</td>\n",
       "      <td>Ladies and gentlemen (yay)\\r\\nYou are now tune...</td>\n",
       "    </tr>\n",
       "    <tr>\n",
       "      <th>795</th>\n",
       "      <td>What U Talkin' Bout</td>\n",
       "      <td>I hate when a motherf*cker come talkin' to me ...</td>\n",
       "    </tr>\n",
       "    <tr>\n",
       "      <th>796</th>\n",
       "      <td>Wintertime in Junew/ Nate Dogg</td>\n",
       "      <td>Well, you're caught, motherf*cker\\r\\nWent to t...</td>\n",
       "    </tr>\n",
       "    <tr>\n",
       "      <th>797</th>\n",
       "      <td>Onda Diferentew/ Anitta, Ludmilla, Papatinho</td>\n",
       "      <td>A noite está cada vez melhor\\r\\nAs minhas pern...</td>\n",
       "    </tr>\n",
       "    <tr>\n",
       "      <th>798</th>\n",
       "      <td>West Coastw/ Lacrim</td>\n",
       "      <td>Bellektric\\r\\n\\r\\nDe Paname, on est venu sur l...</td>\n",
       "    </tr>\n",
       "  </tbody>\n",
       "</table>\n",
       "<p>799 rows × 2 columns</p>\n",
       "</div>"
      ],
      "text/plain": [
       "                                                  song  \\\n",
       "0          California Dreamingw/ Paul Rey, Arman Cekin   \n",
       "1    WWIIIw/ Scarface, Ruff Ryders, Jadakiss, Yung Wun   \n",
       "2                                   Dumb Shitw/ Tyrese   \n",
       "3        Gucci Flip Flops [Remix]w/ Plies, Bhad Bhabie   \n",
       "4            How You Love Mew/ Hardwell, Conor Maynard   \n",
       "5                       My Favourite Colorw/ Big Hutch   \n",
       "6    Do What I Feelw/ Tha Dogg Pound, Nate Dogg, Da...   \n",
       "7    G'z and Hustlasw/ Tha Dogg Pound, Nate Dogg, D...   \n",
       "8    Some Bomb Azz (Pussy)w/ Tha Dogg Pound, Nate D...   \n",
       "9                                     Oh Yeahw/ Jaicko   \n",
       "10                  Kush [Music Video]w/ Dr. Dre, Akon   \n",
       "11   The Next Episode [Music Video]w/ Dr. Dre, Nate...   \n",
       "12                                      What's My Name   \n",
       "13                           Top of the Worldw/ Kimbra   \n",
       "14   You and Your Friendsw/ Wiz Khalifa, Ty Dolla $ign   \n",
       "15     I Walk the Line [ODT Muzic Remix]w/ Johnny Cash   \n",
       "16                      Gangsta Gangsta [*]w/ C-Murder   \n",
       "17                                Deep Coverw/ Dr. Dre   \n",
       "18   The $20 Sack Pyramidw/ D.O.C., Dr. Dre, Samara...   \n",
       "19                       The Chronic (Intro)w/ Dr. Dre   \n",
       "20   Deeez Nuuutsw/ Dr. Dre, Warren G, Dat Nigga Da...   \n",
       "21   Doggy Dogg World [DVD]w/ The Dramatics, Dogg P...   \n",
       "22                                   Tha Shiznit [DVD]   \n",
       "23   Ain't No Fun (If the Homies Can't Have None)w/...   \n",
       "24                                             Bathtub   \n",
       "25    Doggy Dogg Worldw/ The Dramatics, Tha Dogg Pound   \n",
       "26   For All My Niggaz & Bitchesw/ The Lady of Rage...   \n",
       "27                                      G Funk (Intro)   \n",
       "28                       Gin and Juicew/ Dat Nigga Daz   \n",
       "29                     GZ and Hustlasw/ Nanci Fletcher   \n",
       "..                                                 ...   \n",
       "769                        Always Got Something to Say   \n",
       "770                    Blessing Me Againw/ Rance Allen   \n",
       "771                            Call Himw/ Fred Hammond   \n",
       "772           Come as You Arew/ Mary Mary, Marvin Sapp   \n",
       "773                             Defeatedw/ John P. Kee   \n",
       "774      Going Homew/ Uncle Chucc, The Zion Messengers   \n",
       "775              In the Name of Jesusw/ October London   \n",
       "776  Love for Godw/ Uncle Chucc, K-Ci, The Zion Mes...   \n",
       "777                              My Godw/ James Wright   \n",
       "778                      One More Dayw/ Charlie Wilson   \n",
       "779  Savedw/ Faith Evans, 3rd Generation (Bereal Fa...   \n",
       "780              Thank You Lord (Intro)w/ Chris Bolton   \n",
       "781                 When It's All Overw/ Patti LaBelle   \n",
       "782                           Words Are Feww/ B. Slade   \n",
       "783                                 Youw/ Tye Tribbett   \n",
       "784                            Dope Niggazw/ Lil Wayne   \n",
       "785              Hollywoodw/ Jamie Principle, Gorillaz   \n",
       "786                                  Movesw/ Olly Murs   \n",
       "787                     Last Foreverw/ Rick Ross, Russ   \n",
       "788                      Be Nicew/ The Black Eyed Peas   \n",
       "789                            Countdownw/ Swizz Beatz   \n",
       "790              Do It When I'm in Itw/ Jermaine Dupri   \n",
       "791                        I Wanna Thank Mew/ Marknoxx   \n",
       "792                 One Blood, One Cuzzw/ DJ Battlecat   \n",
       "793                   Take Me Awayw/ Wiz Khalifa, Russ   \n",
       "794                           Turn Me Onw/ Chris Brown   \n",
       "795                                What U Talkin' Bout   \n",
       "796                     Wintertime in Junew/ Nate Dogg   \n",
       "797       Onda Diferentew/ Anitta, Ludmilla, Papatinho   \n",
       "798                                West Coastw/ Lacrim   \n",
       "\n",
       "                                                lyrics  \n",
       "0    These palm trees they sway\\r\\nEach night and e...  \n",
       "1    Ruff Ryders (ruff ryders)\\r\\nRyde or die, volu...  \n",
       "2    I really messed up\\r\\nCan you call me back bab...  \n",
       "3    30, you a fool for this one (Cheeze)\\r\\n\\r\\nGu...  \n",
       "4    Big Snoop Dogg\\r\\nMy nephew Hardwell on the be...  \n",
       "5    Man what the f*ck do you think we're doin' her...  \n",
       "6    \\r\\n \\r\\r\\n\\r\\r\\n[Featuring The Lady Of Rage] ...  \n",
       "7    [Chorus]\\r\\nThis is for the Gz, and this is fo...  \n",
       "8    Daz, come check it out\\r\\nNigga, get the camer...  \n",
       "9    Yeah, (ha ha)\\n\\nOh yeah, oh yeah, oh yeah\\n\\n...  \n",
       "10   Roll up, wait a minute\\r\\nLet me put some kush...  \n",
       "11   La-da-da-da-dahh\\r\\nIt's the motherf*ckin D-O-...  \n",
       "12   From the depths of the sea, back to the block\\...  \n",
       "13   On my knees, all my life I've been sold a chas...  \n",
       "14   I got all these J's rolled up\\r\\nAnd got all t...  \n",
       "15   I keep a close watch on this heart of mine\\r\\n...  \n",
       "16   Ah shit. Man, them pinche black gangstas are a...  \n",
       "17   Tonight's the night I get in some shit (yeah)\\...  \n",
       "18   Damn, it seems its always something with the f...  \n",
       "19   This is dedicated to the niggas that was been ...  \n",
       "20   Chiggie check, microphone check one\\nChiggie c...  \n",
       "21   We'd like to welcome y'all to the fabulous Car...  \n",
       "22   Poppin', stoppin', hoppin' like a rabbit\\r\\nWh...  \n",
       "23   You're back now at the jack-off hour this is D...  \n",
       "24   That felt good\\r\\n(Does it baby?)\\r\\nYeah, rub...  \n",
       "25   We'd like to welcome y'all to the fabulous Car...  \n",
       "26   Well it's that slow flow, D-O-double-G, nigga\\...  \n",
       "27   Yeah,\\nThis is another story about dogs\\nFor t...  \n",
       "28   Heah hah hah!\\r\\nI'm serious nigga one of y'al...  \n",
       "29   This is for the Gz, and this is for the Hustla...  \n",
       "..                                                 ...  \n",
       "769  Heavenly Father\\r\\nI wanna thank you for what ...  \n",
       "770  Blessing me (blessing me)\\r\\nOh yeah (can't yo...  \n",
       "771  Excuse me\\r\\nExcuse me, thank you\\r\\nHello, he...  \n",
       "772  I know, they mighta told you\\r\\nThat you had t...  \n",
       "773  Father, we pray this morning for the spirit of...  \n",
       "774  Soon I will be done\\r\\nWith the trouble of the...  \n",
       "775  For those of you that don't have anything to b...  \n",
       "776  I got so much\\r\\nHmm to love God for\\r\\nSay it...  \n",
       "777  Come on and sit down, baby\\r\\nI wanna tell you...  \n",
       "778  It's just one more day\\r\\nThe lord has kept me...  \n",
       "779  I found a friend who is all to me\\r\\nHis love,...  \n",
       "780  Church say amen (Amen!)\\r\\nCould everyone plea...  \n",
       "781  I shall wear it\\r\\nI shall wear a crown\\r\\nWhe...  \n",
       "782  There are times when I don't wanna speak\\r\\nGr...  \n",
       "783  Okay, are y'all ready?\\r\\nTurn it up, Snoop\\r\\...  \n",
       "784  I thank the Lord I'm not a broke nigga\\r\\nI'm ...  \n",
       "785  Where the beautiful people at?\\r\\nI said where...  \n",
       "786  Olly Murs\\r\\nBig Snoop Dogg\\r\\nYou know we 'bo...  \n",
       "787  I think this might be paradise\\r\\nI just hope ...  \n",
       "788  Be nice\\r\\nBe nice\\r\\nBe nice\\r\\nBe nice\\r\\n\\r...  \n",
       "789  Ten, nine, eight, seven, six, five\\r\\nFour, th...  \n",
       "790  (Hi Music Hi Flow)\\r\\nY'all know who this is\\r...  \n",
       "791  Last but not least, I wanna thank me\\r\\nI wann...  \n",
       "792  Top of the morning\\r\\nIt's just something I wa...  \n",
       "793  Yeah\\r\\nYeah, Russ, Wiz, Snoop Dogg\\r\\nI don't...  \n",
       "794  Ladies and gentlemen (yay)\\r\\nYou are now tune...  \n",
       "795  I hate when a motherf*cker come talkin' to me ...  \n",
       "796  Well, you're caught, motherf*cker\\r\\nWent to t...  \n",
       "797  A noite está cada vez melhor\\r\\nAs minhas pern...  \n",
       "798  Bellektric\\r\\n\\r\\nDe Paname, on est venu sur l...  \n",
       "\n",
       "[799 rows x 2 columns]"
      ]
     },
     "execution_count": 20,
     "metadata": {},
     "output_type": "execute_result"
    }
   ],
   "source": [
    "df"
   ]
  },
  {
   "cell_type": "code",
   "execution_count": 25,
   "metadata": {},
   "outputs": [],
   "source": [
    "#1 2 1 2...this is just a (CSV)test\n",
    "df.to_csv('snoop_lyrics.csv')"
   ]
  },
  {
   "cell_type": "code",
   "execution_count": null,
   "metadata": {},
   "outputs": [],
   "source": [
    "#Rapper's Delight Link:\n",
    "#https://www.lyrics.com/lyric/5263504/The+Sugarhill+Gang/Rappers+Delight\n",
    "#Get a  word count for this song"
   ]
  },
  {
   "cell_type": "code",
   "execution_count": 26,
   "metadata": {},
   "outputs": [],
   "source": [
    "#Pass me the J, SON!\n",
    "df.to_json(r'JSONLyricsExports\\snoop_lyrics.json')"
   ]
  },
  {
   "cell_type": "code",
   "execution_count": 27,
   "metadata": {},
   "outputs": [
    {
     "data": {
      "text/plain": [
       "the              17735\n",
       "I                13389\n",
       "you              10042\n",
       "a                 8992\n",
       "to                8841\n",
       "and               7270\n",
       "my                6474\n",
       "it                5649\n",
       "on                5277\n",
       "in                5131\n",
       "me                4998\n",
       "I'm               4959\n",
       "that              3912\n",
       "with              3782\n",
       "like              3342\n",
       "up                3283\n",
       "get               3237\n",
       "And               3166\n",
       "your              3110\n",
       "of                2776\n",
       "got               2743\n",
       "for               2600\n",
       "we                2485\n",
       "is                2309\n",
       "know              2305\n",
       "this              2258\n",
       "You               2208\n",
       "all               2148\n",
       "be                2078\n",
       "don't             2042\n",
       "                 ...  \n",
       "funny?               1\n",
       "wrought              1\n",
       "navajo,              1\n",
       "RuPauls              1\n",
       "hap'nin'             1\n",
       "Wee,                 1\n",
       "parental             1\n",
       "brand,               1\n",
       "League               1\n",
       "sigh,                1\n",
       "f                    1\n",
       "\"Dee                 1\n",
       "chippas              1\n",
       "Banger,              1\n",
       "subtractin           1\n",
       "trip...              1\n",
       "backboard            1\n",
       "Joyrich              1\n",
       "GP800                1\n",
       "inspired             1\n",
       "whores,              1\n",
       "Gone,                1\n",
       "quilt                1\n",
       "Eightball)           1\n",
       "(boo)                1\n",
       "snoopatronics        1\n",
       "part,                1\n",
       "No-Meaner,           1\n",
       "po'-po'              1\n",
       "1DB's                1\n",
       "Length: 30116, dtype: int64"
      ]
     },
     "execution_count": 27,
     "metadata": {},
     "output_type": "execute_result"
    }
   ],
   "source": [
    "#Raw Word Count\n",
    "df.lyrics.str.split(expand=True).stack().value_counts()"
   ]
  },
  {
   "cell_type": "code",
   "execution_count": 28,
   "metadata": {},
   "outputs": [],
   "source": [
    "wordcount = df.lyrics.str.split(expand=True).stack().value_counts()"
   ]
  },
  {
   "cell_type": "code",
   "execution_count": 29,
   "metadata": {},
   "outputs": [],
   "source": [
    "#Word.\n",
    "pd.DataFrame(wordcount).to_csv('snoop_words.csv')\n",
    "#wordcount.rename(columns={'Word':'Count'}, inplace=True)"
   ]
  },
  {
   "cell_type": "code",
   "execution_count": null,
   "metadata": {},
   "outputs": [],
   "source": [
    "#Now a value count without stop words and punctuation\n",
    "df.replace(to_replace = 'I', 'the', value = \"\",regex=True)"
   ]
  },
  {
   "cell_type": "code",
   "execution_count": null,
   "metadata": {},
   "outputs": [],
   "source": [
    "#Now a value count without stop words and punctuation\n",
    " df.replace(to_replace='the','I','a','you','me','my','and','in','I''m','on','it','of','be','for','get','with','we','that','your','is','they','got','up'value=\"\",regex=True)"
   ]
  },
  {
   "cell_type": "code",
   "execution_count": 31,
   "metadata": {},
   "outputs": [],
   "source": [
    "#Word.\n",
    "pd.DataFrame(wordcount).to_csv('snoop_words.csv')\n",
    "#wordcount.rename(columns={'Word':'Count'}, inplace=True)"
   ]
  },
  {
   "cell_type": "code",
   "execution_count": null,
   "metadata": {},
   "outputs": [],
   "source": [
    "# PLOTLY"
   ]
  },
  {
   "cell_type": "code",
   "execution_count": 1,
   "metadata": {},
   "outputs": [
    {
     "name": "stdout",
     "output_type": "stream",
     "text": [
      "Collecting plotly\n",
      "  Downloading https://files.pythonhosted.org/packages/70/19/8437e22c84083a6d5d8a3c80f4edc73c9dcbb89261d07e6bd13b48752bbd/plotly-4.1.1-py2.py3-none-any.whl (7.1MB)\n",
      "Requirement already satisfied: six in c:\\users\\robbenweems\\anaconda3\\lib\\site-packages (from plotly) (1.12.0)\n",
      "Collecting retrying>=1.3.3 (from plotly)\n",
      "  Downloading https://files.pythonhosted.org/packages/44/ef/beae4b4ef80902f22e3af073397f079c96969c69b2c7d52a57ea9ae61c9d/retrying-1.3.3.tar.gz\n",
      "Building wheels for collected packages: retrying\n",
      "  Building wheel for retrying (setup.py): started\n",
      "  Building wheel for retrying (setup.py): finished with status 'done'\n",
      "  Stored in directory: C:\\Users\\RobbenWeems\\AppData\\Local\\pip\\Cache\\wheels\\d7\\a9\\33\\acc7b709e2a35caa7d4cae442f6fe6fbf2c43f80823d46460c\n",
      "Successfully built retrying\n",
      "Installing collected packages: retrying, plotly\n",
      "Successfully installed plotly-4.1.1 retrying-1.3.3\n",
      "Note: you may need to restart the kernel to use updated packages.\n"
     ]
    }
   ],
   "source": [
    "pip install plotly"
   ]
  },
  {
   "cell_type": "code",
   "execution_count": 7,
   "metadata": {},
   "outputs": [
    {
     "data": {
      "application/vnd.plotly.v1+json": {
       "config": {
        "plotlyServerURL": "https://plot.ly"
       },
       "data": [
        {
         "hoverinfo": "label+percent",
         "labels": [
          "Up",
          "Down",
          "Rhyme",
          "Tricky"
         ],
         "marker": {
          "colors": [
           "gold",
           "mediumturquoise",
           "darkorange",
           "lightgreen"
          ],
          "line": {
           "color": "#000000",
           "width": 2
          }
         },
         "textfont": {
          "size": 20
         },
         "textinfo": "value",
         "type": "pie",
         "values": [
          229,
          153,
          153,
          108
         ]
        }
       ],
       "layout": {
        "template": {
         "data": {
          "bar": [
           {
            "error_x": {
             "color": "#2a3f5f"
            },
            "error_y": {
             "color": "#2a3f5f"
            },
            "marker": {
             "line": {
              "color": "#E5ECF6",
              "width": 0.5
             }
            },
            "type": "bar"
           }
          ],
          "barpolar": [
           {
            "marker": {
             "line": {
              "color": "#E5ECF6",
              "width": 0.5
             }
            },
            "type": "barpolar"
           }
          ],
          "carpet": [
           {
            "aaxis": {
             "endlinecolor": "#2a3f5f",
             "gridcolor": "white",
             "linecolor": "white",
             "minorgridcolor": "white",
             "startlinecolor": "#2a3f5f"
            },
            "baxis": {
             "endlinecolor": "#2a3f5f",
             "gridcolor": "white",
             "linecolor": "white",
             "minorgridcolor": "white",
             "startlinecolor": "#2a3f5f"
            },
            "type": "carpet"
           }
          ],
          "choropleth": [
           {
            "colorbar": {
             "outlinewidth": 0,
             "ticks": ""
            },
            "type": "choropleth"
           }
          ],
          "contour": [
           {
            "colorbar": {
             "outlinewidth": 0,
             "ticks": ""
            },
            "colorscale": [
             [
              0,
              "#0d0887"
             ],
             [
              0.1111111111111111,
              "#46039f"
             ],
             [
              0.2222222222222222,
              "#7201a8"
             ],
             [
              0.3333333333333333,
              "#9c179e"
             ],
             [
              0.4444444444444444,
              "#bd3786"
             ],
             [
              0.5555555555555556,
              "#d8576b"
             ],
             [
              0.6666666666666666,
              "#ed7953"
             ],
             [
              0.7777777777777778,
              "#fb9f3a"
             ],
             [
              0.8888888888888888,
              "#fdca26"
             ],
             [
              1,
              "#f0f921"
             ]
            ],
            "type": "contour"
           }
          ],
          "contourcarpet": [
           {
            "colorbar": {
             "outlinewidth": 0,
             "ticks": ""
            },
            "type": "contourcarpet"
           }
          ],
          "heatmap": [
           {
            "colorbar": {
             "outlinewidth": 0,
             "ticks": ""
            },
            "colorscale": [
             [
              0,
              "#0d0887"
             ],
             [
              0.1111111111111111,
              "#46039f"
             ],
             [
              0.2222222222222222,
              "#7201a8"
             ],
             [
              0.3333333333333333,
              "#9c179e"
             ],
             [
              0.4444444444444444,
              "#bd3786"
             ],
             [
              0.5555555555555556,
              "#d8576b"
             ],
             [
              0.6666666666666666,
              "#ed7953"
             ],
             [
              0.7777777777777778,
              "#fb9f3a"
             ],
             [
              0.8888888888888888,
              "#fdca26"
             ],
             [
              1,
              "#f0f921"
             ]
            ],
            "type": "heatmap"
           }
          ],
          "heatmapgl": [
           {
            "colorbar": {
             "outlinewidth": 0,
             "ticks": ""
            },
            "colorscale": [
             [
              0,
              "#0d0887"
             ],
             [
              0.1111111111111111,
              "#46039f"
             ],
             [
              0.2222222222222222,
              "#7201a8"
             ],
             [
              0.3333333333333333,
              "#9c179e"
             ],
             [
              0.4444444444444444,
              "#bd3786"
             ],
             [
              0.5555555555555556,
              "#d8576b"
             ],
             [
              0.6666666666666666,
              "#ed7953"
             ],
             [
              0.7777777777777778,
              "#fb9f3a"
             ],
             [
              0.8888888888888888,
              "#fdca26"
             ],
             [
              1,
              "#f0f921"
             ]
            ],
            "type": "heatmapgl"
           }
          ],
          "histogram": [
           {
            "marker": {
             "colorbar": {
              "outlinewidth": 0,
              "ticks": ""
             }
            },
            "type": "histogram"
           }
          ],
          "histogram2d": [
           {
            "colorbar": {
             "outlinewidth": 0,
             "ticks": ""
            },
            "colorscale": [
             [
              0,
              "#0d0887"
             ],
             [
              0.1111111111111111,
              "#46039f"
             ],
             [
              0.2222222222222222,
              "#7201a8"
             ],
             [
              0.3333333333333333,
              "#9c179e"
             ],
             [
              0.4444444444444444,
              "#bd3786"
             ],
             [
              0.5555555555555556,
              "#d8576b"
             ],
             [
              0.6666666666666666,
              "#ed7953"
             ],
             [
              0.7777777777777778,
              "#fb9f3a"
             ],
             [
              0.8888888888888888,
              "#fdca26"
             ],
             [
              1,
              "#f0f921"
             ]
            ],
            "type": "histogram2d"
           }
          ],
          "histogram2dcontour": [
           {
            "colorbar": {
             "outlinewidth": 0,
             "ticks": ""
            },
            "colorscale": [
             [
              0,
              "#0d0887"
             ],
             [
              0.1111111111111111,
              "#46039f"
             ],
             [
              0.2222222222222222,
              "#7201a8"
             ],
             [
              0.3333333333333333,
              "#9c179e"
             ],
             [
              0.4444444444444444,
              "#bd3786"
             ],
             [
              0.5555555555555556,
              "#d8576b"
             ],
             [
              0.6666666666666666,
              "#ed7953"
             ],
             [
              0.7777777777777778,
              "#fb9f3a"
             ],
             [
              0.8888888888888888,
              "#fdca26"
             ],
             [
              1,
              "#f0f921"
             ]
            ],
            "type": "histogram2dcontour"
           }
          ],
          "mesh3d": [
           {
            "colorbar": {
             "outlinewidth": 0,
             "ticks": ""
            },
            "type": "mesh3d"
           }
          ],
          "parcoords": [
           {
            "line": {
             "colorbar": {
              "outlinewidth": 0,
              "ticks": ""
             }
            },
            "type": "parcoords"
           }
          ],
          "scatter": [
           {
            "marker": {
             "colorbar": {
              "outlinewidth": 0,
              "ticks": ""
             }
            },
            "type": "scatter"
           }
          ],
          "scatter3d": [
           {
            "line": {
             "colorbar": {
              "outlinewidth": 0,
              "ticks": ""
             }
            },
            "marker": {
             "colorbar": {
              "outlinewidth": 0,
              "ticks": ""
             }
            },
            "type": "scatter3d"
           }
          ],
          "scattercarpet": [
           {
            "marker": {
             "colorbar": {
              "outlinewidth": 0,
              "ticks": ""
             }
            },
            "type": "scattercarpet"
           }
          ],
          "scattergeo": [
           {
            "marker": {
             "colorbar": {
              "outlinewidth": 0,
              "ticks": ""
             }
            },
            "type": "scattergeo"
           }
          ],
          "scattergl": [
           {
            "marker": {
             "colorbar": {
              "outlinewidth": 0,
              "ticks": ""
             }
            },
            "type": "scattergl"
           }
          ],
          "scattermapbox": [
           {
            "marker": {
             "colorbar": {
              "outlinewidth": 0,
              "ticks": ""
             }
            },
            "type": "scattermapbox"
           }
          ],
          "scatterpolar": [
           {
            "marker": {
             "colorbar": {
              "outlinewidth": 0,
              "ticks": ""
             }
            },
            "type": "scatterpolar"
           }
          ],
          "scatterpolargl": [
           {
            "marker": {
             "colorbar": {
              "outlinewidth": 0,
              "ticks": ""
             }
            },
            "type": "scatterpolargl"
           }
          ],
          "scatterternary": [
           {
            "marker": {
             "colorbar": {
              "outlinewidth": 0,
              "ticks": ""
             }
            },
            "type": "scatterternary"
           }
          ],
          "surface": [
           {
            "colorbar": {
             "outlinewidth": 0,
             "ticks": ""
            },
            "colorscale": [
             [
              0,
              "#0d0887"
             ],
             [
              0.1111111111111111,
              "#46039f"
             ],
             [
              0.2222222222222222,
              "#7201a8"
             ],
             [
              0.3333333333333333,
              "#9c179e"
             ],
             [
              0.4444444444444444,
              "#bd3786"
             ],
             [
              0.5555555555555556,
              "#d8576b"
             ],
             [
              0.6666666666666666,
              "#ed7953"
             ],
             [
              0.7777777777777778,
              "#fb9f3a"
             ],
             [
              0.8888888888888888,
              "#fdca26"
             ],
             [
              1,
              "#f0f921"
             ]
            ],
            "type": "surface"
           }
          ],
          "table": [
           {
            "cells": {
             "fill": {
              "color": "#EBF0F8"
             },
             "line": {
              "color": "white"
             }
            },
            "header": {
             "fill": {
              "color": "#C8D4E3"
             },
             "line": {
              "color": "white"
             }
            },
            "type": "table"
           }
          ]
         },
         "layout": {
          "annotationdefaults": {
           "arrowcolor": "#2a3f5f",
           "arrowhead": 0,
           "arrowwidth": 1
          },
          "colorscale": {
           "diverging": [
            [
             0,
             "#8e0152"
            ],
            [
             0.1,
             "#c51b7d"
            ],
            [
             0.2,
             "#de77ae"
            ],
            [
             0.3,
             "#f1b6da"
            ],
            [
             0.4,
             "#fde0ef"
            ],
            [
             0.5,
             "#f7f7f7"
            ],
            [
             0.6,
             "#e6f5d0"
            ],
            [
             0.7,
             "#b8e186"
            ],
            [
             0.8,
             "#7fbc41"
            ],
            [
             0.9,
             "#4d9221"
            ],
            [
             1,
             "#276419"
            ]
           ],
           "sequential": [
            [
             0,
             "#0d0887"
            ],
            [
             0.1111111111111111,
             "#46039f"
            ],
            [
             0.2222222222222222,
             "#7201a8"
            ],
            [
             0.3333333333333333,
             "#9c179e"
            ],
            [
             0.4444444444444444,
             "#bd3786"
            ],
            [
             0.5555555555555556,
             "#d8576b"
            ],
            [
             0.6666666666666666,
             "#ed7953"
            ],
            [
             0.7777777777777778,
             "#fb9f3a"
            ],
            [
             0.8888888888888888,
             "#fdca26"
            ],
            [
             1,
             "#f0f921"
            ]
           ],
           "sequentialminus": [
            [
             0,
             "#0d0887"
            ],
            [
             0.1111111111111111,
             "#46039f"
            ],
            [
             0.2222222222222222,
             "#7201a8"
            ],
            [
             0.3333333333333333,
             "#9c179e"
            ],
            [
             0.4444444444444444,
             "#bd3786"
            ],
            [
             0.5555555555555556,
             "#d8576b"
            ],
            [
             0.6666666666666666,
             "#ed7953"
            ],
            [
             0.7777777777777778,
             "#fb9f3a"
            ],
            [
             0.8888888888888888,
             "#fdca26"
            ],
            [
             1,
             "#f0f921"
            ]
           ]
          },
          "colorway": [
           "#636efa",
           "#EF553B",
           "#00cc96",
           "#ab63fa",
           "#FFA15A",
           "#19d3f3",
           "#FF6692",
           "#B6E880",
           "#FF97FF",
           "#FECB52"
          ],
          "font": {
           "color": "#2a3f5f"
          },
          "geo": {
           "bgcolor": "white",
           "lakecolor": "white",
           "landcolor": "#E5ECF6",
           "showlakes": true,
           "showland": true,
           "subunitcolor": "white"
          },
          "hoverlabel": {
           "align": "left"
          },
          "hovermode": "closest",
          "mapbox": {
           "style": "light"
          },
          "paper_bgcolor": "white",
          "plot_bgcolor": "#E5ECF6",
          "polar": {
           "angularaxis": {
            "gridcolor": "white",
            "linecolor": "white",
            "ticks": ""
           },
           "bgcolor": "#E5ECF6",
           "radialaxis": {
            "gridcolor": "white",
            "linecolor": "white",
            "ticks": ""
           }
          },
          "scene": {
           "xaxis": {
            "backgroundcolor": "#E5ECF6",
            "gridcolor": "white",
            "gridwidth": 2,
            "linecolor": "white",
            "showbackground": true,
            "ticks": "",
            "zerolinecolor": "white"
           },
           "yaxis": {
            "backgroundcolor": "#E5ECF6",
            "gridcolor": "white",
            "gridwidth": 2,
            "linecolor": "white",
            "showbackground": true,
            "ticks": "",
            "zerolinecolor": "white"
           },
           "zaxis": {
            "backgroundcolor": "#E5ECF6",
            "gridcolor": "white",
            "gridwidth": 2,
            "linecolor": "white",
            "showbackground": true,
            "ticks": "",
            "zerolinecolor": "white"
           }
          },
          "shapedefaults": {
           "line": {
            "color": "#2a3f5f"
           }
          },
          "ternary": {
           "aaxis": {
            "gridcolor": "white",
            "linecolor": "white",
            "ticks": ""
           },
           "baxis": {
            "gridcolor": "white",
            "linecolor": "white",
            "ticks": ""
           },
           "bgcolor": "#E5ECF6",
           "caxis": {
            "gridcolor": "white",
            "linecolor": "white",
            "ticks": ""
           }
          },
          "title": {
           "x": 0.05
          },
          "xaxis": {
           "automargin": true,
           "gridcolor": "white",
           "linecolor": "white",
           "ticks": "",
           "zerolinecolor": "white",
           "zerolinewidth": 2
          },
          "yaxis": {
           "automargin": true,
           "gridcolor": "white",
           "linecolor": "white",
           "ticks": "",
           "zerolinecolor": "white",
           "zerolinewidth": 2
          }
         }
        },
        "title": {
         "text": "RUN-D.M.C. Word Use"
        }
       }
      },
      "text/html": [
       "<div>\n",
       "        \n",
       "        \n",
       "            <div id=\"8b270760-538f-4063-be2f-9a7d08aa412b\" class=\"plotly-graph-div\" style=\"height:525px; width:100%;\"></div>\n",
       "            <script type=\"text/javascript\">\n",
       "                require([\"plotly\"], function(Plotly) {\n",
       "                    window.PLOTLYENV=window.PLOTLYENV || {};\n",
       "                    \n",
       "                if (document.getElementById(\"8b270760-538f-4063-be2f-9a7d08aa412b\")) {\n",
       "                    Plotly.newPlot(\n",
       "                        '8b270760-538f-4063-be2f-9a7d08aa412b',\n",
       "                        [{\"hoverinfo\": \"label+percent\", \"labels\": [\"Up\", \"Down\", \"Rhyme\", \"Tricky\"], \"marker\": {\"colors\": [\"gold\", \"mediumturquoise\", \"darkorange\", \"lightgreen\"], \"line\": {\"color\": \"#000000\", \"width\": 2}}, \"textfont\": {\"size\": 20}, \"textinfo\": \"value\", \"type\": \"pie\", \"values\": [229, 153, 153, 108]}],\n",
       "                        {\"template\": {\"data\": {\"bar\": [{\"error_x\": {\"color\": \"#2a3f5f\"}, \"error_y\": {\"color\": \"#2a3f5f\"}, \"marker\": {\"line\": {\"color\": \"#E5ECF6\", \"width\": 0.5}}, \"type\": \"bar\"}], \"barpolar\": [{\"marker\": {\"line\": {\"color\": \"#E5ECF6\", \"width\": 0.5}}, \"type\": \"barpolar\"}], \"carpet\": [{\"aaxis\": {\"endlinecolor\": \"#2a3f5f\", \"gridcolor\": \"white\", \"linecolor\": \"white\", \"minorgridcolor\": \"white\", \"startlinecolor\": \"#2a3f5f\"}, \"baxis\": {\"endlinecolor\": \"#2a3f5f\", \"gridcolor\": \"white\", \"linecolor\": \"white\", \"minorgridcolor\": \"white\", \"startlinecolor\": \"#2a3f5f\"}, \"type\": \"carpet\"}], \"choropleth\": [{\"colorbar\": {\"outlinewidth\": 0, \"ticks\": \"\"}, \"type\": \"choropleth\"}], \"contour\": [{\"colorbar\": {\"outlinewidth\": 0, \"ticks\": \"\"}, \"colorscale\": [[0.0, \"#0d0887\"], [0.1111111111111111, \"#46039f\"], [0.2222222222222222, \"#7201a8\"], [0.3333333333333333, \"#9c179e\"], [0.4444444444444444, \"#bd3786\"], [0.5555555555555556, \"#d8576b\"], [0.6666666666666666, \"#ed7953\"], [0.7777777777777778, \"#fb9f3a\"], [0.8888888888888888, \"#fdca26\"], [1.0, \"#f0f921\"]], \"type\": \"contour\"}], \"contourcarpet\": [{\"colorbar\": {\"outlinewidth\": 0, \"ticks\": \"\"}, \"type\": \"contourcarpet\"}], \"heatmap\": [{\"colorbar\": {\"outlinewidth\": 0, \"ticks\": \"\"}, \"colorscale\": [[0.0, \"#0d0887\"], [0.1111111111111111, \"#46039f\"], [0.2222222222222222, \"#7201a8\"], [0.3333333333333333, \"#9c179e\"], [0.4444444444444444, \"#bd3786\"], [0.5555555555555556, \"#d8576b\"], [0.6666666666666666, \"#ed7953\"], [0.7777777777777778, \"#fb9f3a\"], [0.8888888888888888, \"#fdca26\"], [1.0, \"#f0f921\"]], \"type\": \"heatmap\"}], \"heatmapgl\": [{\"colorbar\": {\"outlinewidth\": 0, \"ticks\": \"\"}, \"colorscale\": [[0.0, \"#0d0887\"], [0.1111111111111111, \"#46039f\"], [0.2222222222222222, \"#7201a8\"], [0.3333333333333333, \"#9c179e\"], [0.4444444444444444, \"#bd3786\"], [0.5555555555555556, \"#d8576b\"], [0.6666666666666666, \"#ed7953\"], [0.7777777777777778, \"#fb9f3a\"], [0.8888888888888888, \"#fdca26\"], [1.0, \"#f0f921\"]], \"type\": \"heatmapgl\"}], \"histogram\": [{\"marker\": {\"colorbar\": {\"outlinewidth\": 0, \"ticks\": \"\"}}, \"type\": \"histogram\"}], \"histogram2d\": [{\"colorbar\": {\"outlinewidth\": 0, \"ticks\": \"\"}, \"colorscale\": [[0.0, \"#0d0887\"], [0.1111111111111111, \"#46039f\"], [0.2222222222222222, \"#7201a8\"], [0.3333333333333333, \"#9c179e\"], [0.4444444444444444, \"#bd3786\"], [0.5555555555555556, \"#d8576b\"], [0.6666666666666666, \"#ed7953\"], [0.7777777777777778, \"#fb9f3a\"], [0.8888888888888888, \"#fdca26\"], [1.0, \"#f0f921\"]], \"type\": \"histogram2d\"}], \"histogram2dcontour\": [{\"colorbar\": {\"outlinewidth\": 0, \"ticks\": \"\"}, \"colorscale\": [[0.0, \"#0d0887\"], [0.1111111111111111, \"#46039f\"], [0.2222222222222222, \"#7201a8\"], [0.3333333333333333, \"#9c179e\"], [0.4444444444444444, \"#bd3786\"], [0.5555555555555556, \"#d8576b\"], [0.6666666666666666, \"#ed7953\"], [0.7777777777777778, \"#fb9f3a\"], [0.8888888888888888, \"#fdca26\"], [1.0, \"#f0f921\"]], \"type\": \"histogram2dcontour\"}], \"mesh3d\": [{\"colorbar\": {\"outlinewidth\": 0, \"ticks\": \"\"}, \"type\": \"mesh3d\"}], \"parcoords\": [{\"line\": {\"colorbar\": {\"outlinewidth\": 0, \"ticks\": \"\"}}, \"type\": \"parcoords\"}], \"scatter\": [{\"marker\": {\"colorbar\": {\"outlinewidth\": 0, \"ticks\": \"\"}}, \"type\": \"scatter\"}], \"scatter3d\": [{\"line\": {\"colorbar\": {\"outlinewidth\": 0, \"ticks\": \"\"}}, \"marker\": {\"colorbar\": {\"outlinewidth\": 0, \"ticks\": \"\"}}, \"type\": \"scatter3d\"}], \"scattercarpet\": [{\"marker\": {\"colorbar\": {\"outlinewidth\": 0, \"ticks\": \"\"}}, \"type\": \"scattercarpet\"}], \"scattergeo\": [{\"marker\": {\"colorbar\": {\"outlinewidth\": 0, \"ticks\": \"\"}}, \"type\": \"scattergeo\"}], \"scattergl\": [{\"marker\": {\"colorbar\": {\"outlinewidth\": 0, \"ticks\": \"\"}}, \"type\": \"scattergl\"}], \"scattermapbox\": [{\"marker\": {\"colorbar\": {\"outlinewidth\": 0, \"ticks\": \"\"}}, \"type\": \"scattermapbox\"}], \"scatterpolar\": [{\"marker\": {\"colorbar\": {\"outlinewidth\": 0, \"ticks\": \"\"}}, \"type\": \"scatterpolar\"}], \"scatterpolargl\": [{\"marker\": {\"colorbar\": {\"outlinewidth\": 0, \"ticks\": \"\"}}, \"type\": \"scatterpolargl\"}], \"scatterternary\": [{\"marker\": {\"colorbar\": {\"outlinewidth\": 0, \"ticks\": \"\"}}, \"type\": \"scatterternary\"}], \"surface\": [{\"colorbar\": {\"outlinewidth\": 0, \"ticks\": \"\"}, \"colorscale\": [[0.0, \"#0d0887\"], [0.1111111111111111, \"#46039f\"], [0.2222222222222222, \"#7201a8\"], [0.3333333333333333, \"#9c179e\"], [0.4444444444444444, \"#bd3786\"], [0.5555555555555556, \"#d8576b\"], [0.6666666666666666, \"#ed7953\"], [0.7777777777777778, \"#fb9f3a\"], [0.8888888888888888, \"#fdca26\"], [1.0, \"#f0f921\"]], \"type\": \"surface\"}], \"table\": [{\"cells\": {\"fill\": {\"color\": \"#EBF0F8\"}, \"line\": {\"color\": \"white\"}}, \"header\": {\"fill\": {\"color\": \"#C8D4E3\"}, \"line\": {\"color\": \"white\"}}, \"type\": \"table\"}]}, \"layout\": {\"annotationdefaults\": {\"arrowcolor\": \"#2a3f5f\", \"arrowhead\": 0, \"arrowwidth\": 1}, \"colorscale\": {\"diverging\": [[0, \"#8e0152\"], [0.1, \"#c51b7d\"], [0.2, \"#de77ae\"], [0.3, \"#f1b6da\"], [0.4, \"#fde0ef\"], [0.5, \"#f7f7f7\"], [0.6, \"#e6f5d0\"], [0.7, \"#b8e186\"], [0.8, \"#7fbc41\"], [0.9, \"#4d9221\"], [1, \"#276419\"]], \"sequential\": [[0.0, \"#0d0887\"], [0.1111111111111111, \"#46039f\"], [0.2222222222222222, \"#7201a8\"], [0.3333333333333333, \"#9c179e\"], [0.4444444444444444, \"#bd3786\"], [0.5555555555555556, \"#d8576b\"], [0.6666666666666666, \"#ed7953\"], [0.7777777777777778, \"#fb9f3a\"], [0.8888888888888888, \"#fdca26\"], [1.0, \"#f0f921\"]], \"sequentialminus\": [[0.0, \"#0d0887\"], [0.1111111111111111, \"#46039f\"], [0.2222222222222222, \"#7201a8\"], [0.3333333333333333, \"#9c179e\"], [0.4444444444444444, \"#bd3786\"], [0.5555555555555556, \"#d8576b\"], [0.6666666666666666, \"#ed7953\"], [0.7777777777777778, \"#fb9f3a\"], [0.8888888888888888, \"#fdca26\"], [1.0, \"#f0f921\"]]}, \"colorway\": [\"#636efa\", \"#EF553B\", \"#00cc96\", \"#ab63fa\", \"#FFA15A\", \"#19d3f3\", \"#FF6692\", \"#B6E880\", \"#FF97FF\", \"#FECB52\"], \"font\": {\"color\": \"#2a3f5f\"}, \"geo\": {\"bgcolor\": \"white\", \"lakecolor\": \"white\", \"landcolor\": \"#E5ECF6\", \"showlakes\": true, \"showland\": true, \"subunitcolor\": \"white\"}, \"hoverlabel\": {\"align\": \"left\"}, \"hovermode\": \"closest\", \"mapbox\": {\"style\": \"light\"}, \"paper_bgcolor\": \"white\", \"plot_bgcolor\": \"#E5ECF6\", \"polar\": {\"angularaxis\": {\"gridcolor\": \"white\", \"linecolor\": \"white\", \"ticks\": \"\"}, \"bgcolor\": \"#E5ECF6\", \"radialaxis\": {\"gridcolor\": \"white\", \"linecolor\": \"white\", \"ticks\": \"\"}}, \"scene\": {\"xaxis\": {\"backgroundcolor\": \"#E5ECF6\", \"gridcolor\": \"white\", \"gridwidth\": 2, \"linecolor\": \"white\", \"showbackground\": true, \"ticks\": \"\", \"zerolinecolor\": \"white\"}, \"yaxis\": {\"backgroundcolor\": \"#E5ECF6\", \"gridcolor\": \"white\", \"gridwidth\": 2, \"linecolor\": \"white\", \"showbackground\": true, \"ticks\": \"\", \"zerolinecolor\": \"white\"}, \"zaxis\": {\"backgroundcolor\": \"#E5ECF6\", \"gridcolor\": \"white\", \"gridwidth\": 2, \"linecolor\": \"white\", \"showbackground\": true, \"ticks\": \"\", \"zerolinecolor\": \"white\"}}, \"shapedefaults\": {\"line\": {\"color\": \"#2a3f5f\"}}, \"ternary\": {\"aaxis\": {\"gridcolor\": \"white\", \"linecolor\": \"white\", \"ticks\": \"\"}, \"baxis\": {\"gridcolor\": \"white\", \"linecolor\": \"white\", \"ticks\": \"\"}, \"bgcolor\": \"#E5ECF6\", \"caxis\": {\"gridcolor\": \"white\", \"linecolor\": \"white\", \"ticks\": \"\"}}, \"title\": {\"x\": 0.05}, \"xaxis\": {\"automargin\": true, \"gridcolor\": \"white\", \"linecolor\": \"white\", \"ticks\": \"\", \"zerolinecolor\": \"white\", \"zerolinewidth\": 2}, \"yaxis\": {\"automargin\": true, \"gridcolor\": \"white\", \"linecolor\": \"white\", \"ticks\": \"\", \"zerolinecolor\": \"white\", \"zerolinewidth\": 2}}}, \"title\": {\"text\": \"RUN-D.M.C. Word Use\"}},\n",
       "                        {\"responsive\": true}\n",
       "                    ).then(function(){\n",
       "                            \n",
       "var gd = document.getElementById('8b270760-538f-4063-be2f-9a7d08aa412b');\n",
       "var x = new MutationObserver(function (mutations, observer) {{\n",
       "        var display = window.getComputedStyle(gd).display;\n",
       "        if (!display || display === 'none') {{\n",
       "            console.log([gd, 'removed!']);\n",
       "            Plotly.purge(gd);\n",
       "            observer.disconnect();\n",
       "        }}\n",
       "}});\n",
       "\n",
       "// Listen for the removal of the full notebook cells\n",
       "var notebookContainer = gd.closest('#notebook-container');\n",
       "if (notebookContainer) {{\n",
       "    x.observe(notebookContainer, {childList: true});\n",
       "}}\n",
       "\n",
       "// Listen for the clearing of the current output cell\n",
       "var outputEl = gd.closest('.output');\n",
       "if (outputEl) {{\n",
       "    x.observe(outputEl, {childList: true});\n",
       "}}\n",
       "\n",
       "                        })\n",
       "                };\n",
       "                });\n",
       "            </script>\n",
       "        </div>"
      ]
     },
     "metadata": {},
     "output_type": "display_data"
    }
   ],
   "source": [
    "import plotly.graph_objects as go\n",
    "colors = ['gold', 'mediumturquoise', 'darkorange', 'lightgreen']\n",
    "\n",
    "fig = go.Figure(data=[go.Pie(labels=['Up','Down','Rhyme','Tricky'], \n",
    "                             values=[229,153,153,108])])\n",
    "fig.update_traces(hoverinfo='label+percent', textinfo='value', textfont_size=20,\n",
    "                  marker=dict(colors=colors, line=dict(color='#000000', width=2)))\n",
    "fig.update_layout(\n",
    "    title_text=\"RUN-D.M.C. Word Use\")\n",
    "fig.show()"
   ]
  },
  {
   "cell_type": "code",
   "execution_count": null,
   "metadata": {},
   "outputs": [],
   "source": []
  }
 ],
 "metadata": {
  "kernelspec": {
   "display_name": "Python 3",
   "language": "python",
   "name": "python3"
  },
  "language_info": {
   "codemirror_mode": {
    "name": "ipython",
    "version": 3
   },
   "file_extension": ".py",
   "mimetype": "text/x-python",
   "name": "python",
   "nbconvert_exporter": "python",
   "pygments_lexer": "ipython3",
   "version": "3.7.3"
  }
 },
 "nbformat": 4,
 "nbformat_minor": 2
}
