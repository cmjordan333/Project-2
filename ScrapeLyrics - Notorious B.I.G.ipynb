{
 "cells": [
  {
   "cell_type": "code",
   "execution_count": 13,
   "metadata": {},
   "outputs": [],
   "source": [
    "#Funky fresh imports!\n",
    "import pandas as pd\n",
    "from pandas import DataFrame\n",
    "import requests\n",
    "from bs4 import BeautifulSoup"
   ]
  },
  {
   "cell_type": "code",
   "execution_count": 14,
   "metadata": {},
   "outputs": [],
   "source": [
    "#Mic Check 1 2 1 2\n",
    "url = 'https://www.lyrics.com/artist/The+Notorious+B.I.G.'\n",
    "req = requests.get(url)\n",
    "soup = BeautifulSoup(req.text, 'html.parser')"
   ]
  },
  {
   "cell_type": "code",
   "execution_count": 15,
   "metadata": {},
   "outputs": [],
   "source": [
    "#Where my albums at?!\n",
    "albums = soup.find_all('h3', {'class': 'artist-album-label'})"
   ]
  },
  {
   "cell_type": "code",
   "execution_count": 16,
   "metadata": {},
   "outputs": [
    {
     "name": "stdout",
     "output_type": "stream",
     "text": [
      "Special Dedication\n",
      "Tommy Boy Greatest Hits [2003] [1990]\n",
      "What's the 411? Remix [1992]\n",
      "Dolly My Baby [Single] [1993]\n",
      "Eddie F. Presents - Let's Get It On: The Album [1994]\n"
     ]
    }
   ],
   "source": [
    "# Throw your i in the air and print like you just don't care!\n",
    "for i in albums[:5]:\n",
    "    print(i.text)"
   ]
  },
  {
   "cell_type": "code",
   "execution_count": 17,
   "metadata": {},
   "outputs": [],
   "source": [
    "#Find the songs\n",
    "songs = soup.find_all('td',{'class': 'tal qx'})"
   ]
  },
  {
   "cell_type": "code",
   "execution_count": 18,
   "metadata": {},
   "outputs": [
    {
     "name": "stdout",
     "output_type": "stream",
     "text": [
      "Players Anthemw/ Junior M.A.F.I.A.\n",
      "Can't You See [Original Version]w/ Total\n",
      "What's the 411?w/ Mary J. Blige\n",
      "Dolly My Babyw/ Super Cat, Mary J. Blige, 3rd Eye\n",
      "Let's Get It Onw/ Grand Puba, 2Pac, Heavy D\n"
     ]
    }
   ],
   "source": [
    "for i in songs[::2][:5]:\n",
    "    print(i.text)"
   ]
  },
  {
   "cell_type": "code",
   "execution_count": 19,
   "metadata": {},
   "outputs": [
    {
     "data": {
      "text/plain": [
       "'/lyric/14245478/The+Notorious+B.I.G./Players+Anthem'"
      ]
     },
     "execution_count": 19,
     "metadata": {},
     "output_type": "execute_result"
    }
   ],
   "source": [
    "#More junk in the Truncation:\n",
    "#https://www.lyrics.com/lyric/13976227/Beastie+Boys/And+What+You+Give+Is+What+You+Get\n",
    "#Meaning the link above is a reference to the Song Title and Lyrics for the song\n",
    "songs[0].a.attrs['href']"
   ]
  },
  {
   "cell_type": "code",
   "execution_count": 20,
   "metadata": {},
   "outputs": [],
   "source": [
    "#DJ crank the BASE...url.\n",
    "url = 'https://www.lyrics.com'"
   ]
  },
  {
   "cell_type": "code",
   "execution_count": 21,
   "metadata": {},
   "outputs": [],
   "source": [
    "lyrics = url + songs[0].a.attrs['href']"
   ]
  },
  {
   "cell_type": "code",
   "execution_count": 22,
   "metadata": {},
   "outputs": [],
   "source": [
    "#\n",
    "def lookup():\n",
    "    #It takes a second to get the results intp a df, so hold tight!\n",
    "    artist = input(\"Find the artist! (and be patient!)  \")\n",
    "    if len(artist.split()) < 2:\n",
    "        #If there are more than two artists with the same name, add a way to tell them apart\n",
    "        url = 'https://www.lyrics.com/artist/' + artist.split(' ')[0].lower()\n",
    "    else:\n",
    "        url = 'https://www.lyrics.com/artist/' + artist.split(' ')[0].lower()\n",
    "    for i in range(1, len(artist.split())):\n",
    "        url = url + '%20' + artist.split(' ')[i].lower()\n",
    "    req = requests.get(url)\n",
    "    soup = BeautifulSoup(req.text, 'html.parser')\n",
    "    alb = []\n",
    "    #art = []\n",
    "    s = []\n",
    "    albums = soup.find_all('h3', {'class': 'artist-album-label'})\n",
    "    for i in albums:\n",
    "        alb.append(i.text)\n",
    "    songs = soup.find_all('td',{'class': 'tal qx'})\n",
    "    for i in songs[::2]:\n",
    "        s.append(i.text)\n",
    "    #for i in artist:\n",
    "        #art.append(i.text)\n",
    "    #for i in songs[1::2]:\n",
    "       # ti.append(i.text)\n",
    "    base = 'https://www.lyrics.com'\n",
    "    l = []\n",
    "    for i in range(len(songs)):\n",
    "        if songs[i].a is None:\n",
    "            pass\n",
    "        else:\n",
    "            lyrics = base + songs[i].a.attrs['href']\n",
    "            url = lyrics\n",
    "            req = requests.get(url)\n",
    "            soup = BeautifulSoup(req.text, 'html.parser')\n",
    "            l.append(soup.find('pre', {'id': 'lyric-body-text'}).text)\n",
    "    df = pd.DataFrame({'song': s, 'lyrics': l }) #'Time':ti | 'Artist': art,\n",
    "    return df"
   ]
  },
  {
   "cell_type": "code",
   "execution_count": 23,
   "metadata": {},
   "outputs": [
    {
     "name": "stdout",
     "output_type": "stream",
     "text": [
      "Find the artist! (and be patient!)  The+Notorious+B.I.G.\n"
     ]
    },
    {
     "ename": "AttributeError",
     "evalue": "'NoneType' object has no attribute 'text'",
     "output_type": "error",
     "traceback": [
      "\u001b[1;31m---------------------------------------------------------------------------\u001b[0m",
      "\u001b[1;31mAttributeError\u001b[0m                            Traceback (most recent call last)",
      "\u001b[1;32m<ipython-input-23-80ff3ca7c659>\u001b[0m in \u001b[0;36m<module>\u001b[1;34m\u001b[0m\n\u001b[0;32m      1\u001b[0m \u001b[1;31m#The+Notorious+B.I.G.\u001b[0m\u001b[1;33m\u001b[0m\u001b[1;33m\u001b[0m\u001b[1;33m\u001b[0m\u001b[0m\n\u001b[1;32m----> 2\u001b[1;33m \u001b[0mlookup\u001b[0m\u001b[1;33m(\u001b[0m\u001b[1;33m)\u001b[0m\u001b[1;33m\u001b[0m\u001b[1;33m\u001b[0m\u001b[0m\n\u001b[0m",
      "\u001b[1;32m<ipython-input-22-6ca8da7c0813>\u001b[0m in \u001b[0;36mlookup\u001b[1;34m()\u001b[0m\n\u001b[0;32m     35\u001b[0m             \u001b[0mreq\u001b[0m \u001b[1;33m=\u001b[0m \u001b[0mrequests\u001b[0m\u001b[1;33m.\u001b[0m\u001b[0mget\u001b[0m\u001b[1;33m(\u001b[0m\u001b[0murl\u001b[0m\u001b[1;33m)\u001b[0m\u001b[1;33m\u001b[0m\u001b[1;33m\u001b[0m\u001b[0m\n\u001b[0;32m     36\u001b[0m             \u001b[0msoup\u001b[0m \u001b[1;33m=\u001b[0m \u001b[0mBeautifulSoup\u001b[0m\u001b[1;33m(\u001b[0m\u001b[0mreq\u001b[0m\u001b[1;33m.\u001b[0m\u001b[0mtext\u001b[0m\u001b[1;33m,\u001b[0m \u001b[1;34m'html.parser'\u001b[0m\u001b[1;33m)\u001b[0m\u001b[1;33m\u001b[0m\u001b[1;33m\u001b[0m\u001b[0m\n\u001b[1;32m---> 37\u001b[1;33m             \u001b[0ml\u001b[0m\u001b[1;33m.\u001b[0m\u001b[0mappend\u001b[0m\u001b[1;33m(\u001b[0m\u001b[0msoup\u001b[0m\u001b[1;33m.\u001b[0m\u001b[0mfind\u001b[0m\u001b[1;33m(\u001b[0m\u001b[1;34m'pre'\u001b[0m\u001b[1;33m,\u001b[0m \u001b[1;33m{\u001b[0m\u001b[1;34m'id'\u001b[0m\u001b[1;33m:\u001b[0m \u001b[1;34m'lyric-body-text'\u001b[0m\u001b[1;33m}\u001b[0m\u001b[1;33m)\u001b[0m\u001b[1;33m.\u001b[0m\u001b[0mtext\u001b[0m\u001b[1;33m)\u001b[0m\u001b[1;33m\u001b[0m\u001b[1;33m\u001b[0m\u001b[0m\n\u001b[0m\u001b[0;32m     38\u001b[0m     \u001b[0mdf\u001b[0m \u001b[1;33m=\u001b[0m \u001b[0mpd\u001b[0m\u001b[1;33m.\u001b[0m\u001b[0mDataFrame\u001b[0m\u001b[1;33m(\u001b[0m\u001b[1;33m{\u001b[0m\u001b[1;34m'song'\u001b[0m\u001b[1;33m:\u001b[0m \u001b[0ms\u001b[0m\u001b[1;33m,\u001b[0m \u001b[1;34m'lyrics'\u001b[0m\u001b[1;33m:\u001b[0m \u001b[0ml\u001b[0m \u001b[1;33m}\u001b[0m\u001b[1;33m)\u001b[0m \u001b[1;31m#'Time':ti | 'Artist': art,\u001b[0m\u001b[1;33m\u001b[0m\u001b[1;33m\u001b[0m\u001b[0m\n\u001b[0;32m     39\u001b[0m     \u001b[1;32mreturn\u001b[0m \u001b[0mdf\u001b[0m\u001b[1;33m\u001b[0m\u001b[1;33m\u001b[0m\u001b[0m\n",
      "\u001b[1;31mAttributeError\u001b[0m: 'NoneType' object has no attribute 'text'"
     ]
    }
   ],
   "source": [
    "#The+Notorious+B.I.G.\n",
    "lookup()"
   ]
  },
  {
   "cell_type": "code",
   "execution_count": null,
   "metadata": {},
   "outputs": [],
   "source": [
    "rundmc = lookup()"
   ]
  },
  {
   "cell_type": "code",
   "execution_count": null,
   "metadata": {},
   "outputs": [],
   "source": [
    "type(rundmc)"
   ]
  },
  {
   "cell_type": "code",
   "execution_count": null,
   "metadata": {},
   "outputs": [],
   "source": [
    "#Passing the Mic\n",
    "df = pd.DataFrame(rundmc)"
   ]
  },
  {
   "cell_type": "code",
   "execution_count": null,
   "metadata": {},
   "outputs": [],
   "source": [
    "df"
   ]
  },
  {
   "cell_type": "code",
   "execution_count": null,
   "metadata": {},
   "outputs": [],
   "source": [
    "#1 2 1 2...this is just a (CSV)test\n",
    "df.to_csv('rundmc_lyrics.csv')"
   ]
  },
  {
   "cell_type": "code",
   "execution_count": null,
   "metadata": {},
   "outputs": [],
   "source": [
    "#Pass me the J, SON!\n",
    "df.to_json(r'JSONLyricsExports\\rundmc.json')"
   ]
  },
  {
   "cell_type": "code",
   "execution_count": null,
   "metadata": {},
   "outputs": [],
   "source": [
    "#Raw Word Count\n",
    "df.lyrics.str.split(expand=True).stack().value_counts()"
   ]
  },
  {
   "cell_type": "code",
   "execution_count": null,
   "metadata": {},
   "outputs": [],
   "source": [
    "wordcount = df.lyrics.str.split(expand=True).stack().value_counts()"
   ]
  },
  {
   "cell_type": "code",
   "execution_count": null,
   "metadata": {},
   "outputs": [],
   "source": [
    "#Word.\n",
    "pd.DataFrame(wordcount).to_csv('rundmc_words.csv')\n",
    "#wordcount.rename(columns={'Word':'Count'}, inplace=True)"
   ]
  },
  {
   "cell_type": "code",
   "execution_count": null,
   "metadata": {},
   "outputs": [],
   "source": [
    "#Now a value count without stop words and punctuation\n",
    "df.replace(to_replace = 'I', 'the', value = \"\",regex=True)"
   ]
  },
  {
   "cell_type": "code",
   "execution_count": null,
   "metadata": {},
   "outputs": [],
   "source": [
    "#Now a value count without stop words and punctuation\n",
    " df.replace(to_replace='the','I','a','you','me','my','and','in','I''m','on','it','of','be','for','get','with','we','that','your','is','they','got','up'value=\"\",regex=True)"
   ]
  },
  {
   "cell_type": "code",
   "execution_count": null,
   "metadata": {},
   "outputs": [],
   "source": []
  }
 ],
 "metadata": {
  "kernelspec": {
   "display_name": "Python 3",
   "language": "python",
   "name": "python3"
  },
  "language_info": {
   "codemirror_mode": {
    "name": "ipython",
    "version": 3
   },
   "file_extension": ".py",
   "mimetype": "text/x-python",
   "name": "python",
   "nbconvert_exporter": "python",
   "pygments_lexer": "ipython3",
   "version": "3.7.3"
  }
 },
 "nbformat": 4,
 "nbformat_minor": 2
}
