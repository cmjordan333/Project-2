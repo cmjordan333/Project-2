{
 "cells": [
  {
   "cell_type": "code",
   "execution_count": null,
   "metadata": {},
   "outputs": [],
   "source": [
    "import csv\n",
    "import pandas as pd\n",
    "\n",
    "artists = pd.read_csv('rapworldmap-artists.csv')"
   ]
  },
  {
   "cell_type": "code",
   "execution_count": 2,
   "metadata": {},
   "outputs": [
    {
     "data": {
      "text/plain": [
       "(711, 14)"
      ]
     },
     "execution_count": 2,
     "metadata": {},
     "output_type": "execute_result"
    }
   ],
   "source": [
    "artists.shape"
   ]
  },
  {
   "cell_type": "code",
   "execution_count": 3,
   "metadata": {},
   "outputs": [
    {
     "data": {
      "text/plain": [
       "name                         0\n",
       "location__city               0\n",
       "location__neighborhood     387\n",
       "location__coordinates        0\n",
       "categories__001              0\n",
       "categories__002            616\n",
       "categories__003            704\n",
       "bio__summary                 0\n",
       "bio__url                    61\n",
       "bio__birthdate             279\n",
       "bio__deathdate             681\n",
       "bio__yearsActiveStart        0\n",
       "bio__yearsActiveEnd        614\n",
       "youtube__clipExampleUrl      3\n",
       "dtype: int64"
      ]
     },
     "execution_count": 3,
     "metadata": {},
     "output_type": "execute_result"
    }
   ],
   "source": [
    "artists.isnull().sum()"
   ]
  },
  {
   "cell_type": "code",
   "execution_count": 4,
   "metadata": {},
   "outputs": [],
   "source": [
    "rapRIP=artists.dropna(subset=['bio__deathdate'])"
   ]
  },
  {
   "cell_type": "code",
   "execution_count": 5,
   "metadata": {},
   "outputs": [
    {
     "data": {
      "text/plain": [
       "name                        0\n",
       "location__city              0\n",
       "location__neighborhood     15\n",
       "location__coordinates       0\n",
       "categories__001             0\n",
       "categories__002            28\n",
       "categories__003            30\n",
       "bio__summary                0\n",
       "bio__url                    1\n",
       "bio__birthdate              0\n",
       "bio__deathdate              0\n",
       "bio__yearsActiveStart       0\n",
       "bio__yearsActiveEnd         3\n",
       "youtube__clipExampleUrl     0\n",
       "dtype: int64"
      ]
     },
     "execution_count": 5,
     "metadata": {},
     "output_type": "execute_result"
    }
   ],
   "source": [
    "rapRIP.isnull().sum()"
   ]
  },
  {
   "cell_type": "code",
   "execution_count": 6,
   "metadata": {},
   "outputs": [
    {
     "data": {
      "text/plain": [
       "name                       30\n",
       "location__city             30\n",
       "location__neighborhood     15\n",
       "location__coordinates      30\n",
       "categories__001            30\n",
       "categories__002             2\n",
       "categories__003             0\n",
       "bio__summary               30\n",
       "bio__url                   29\n",
       "bio__birthdate             30\n",
       "bio__deathdate             30\n",
       "bio__yearsActiveStart      30\n",
       "bio__yearsActiveEnd        27\n",
       "youtube__clipExampleUrl    30\n",
       "dtype: int64"
      ]
     },
     "execution_count": 6,
     "metadata": {},
     "output_type": "execute_result"
    }
   ],
   "source": [
    "rapRIP.notnull().sum()"
   ]
  },
  {
   "cell_type": "code",
   "execution_count": 7,
   "metadata": {},
   "outputs": [],
   "source": [
    "rapRIP.to_csv('rapRIP.csv',index=False)"
   ]
  }
 ],
 "metadata": {
  "kernelspec": {
   "display_name": "Python 3",
   "language": "python",
   "name": "python3"
  },
  "language_info": {
   "codemirror_mode": {
    "name": "ipython",
    "version": 3
   },
   "file_extension": ".py",
   "mimetype": "text/x-python",
   "name": "python",
   "nbconvert_exporter": "python",
   "pygments_lexer": "ipython3",
   "version": "3.7.3"
  }
 },
 "nbformat": 4,
 "nbformat_minor": 2
}
